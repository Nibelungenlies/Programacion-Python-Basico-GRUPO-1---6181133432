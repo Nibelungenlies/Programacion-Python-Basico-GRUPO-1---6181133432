{
 "cells": [
  {
   "cell_type": "markdown",
   "metadata": {
    "slideshow": {
     "slide_type": "notes"
    }
   },
   "source": [
    "# 📌 Programación Orientada a Objetos(POO) en Python\n",
    "## Autor: Emmanuel ALfaro Brenes\n",
    "### Fecha: 2025/02/06\n",
    "\n",
    "##################### NOTEBOOK DE ESTUDIANTE ########################\n",
    "\n",
    "## Programacion Python Basico | ICAI\n",
    "\n",
    "## Profesor: Ing. Andrés Mena Abarca\n",
    "\n",
    "### **Nombre del estudiante: Emmanuel Alfaro Brenes **\n",
    "\n",
    "#*******************************************************************#"
   ]
  },
  {
   "cell_type": "markdown",
   "metadata": {},
   "source": [
    "## 📌 Sección 1: Introducción: ##"
   ]
  },
  {
   "cell_type": "markdown",
   "metadata": {
    "slideshow": {
     "slide_type": "notes"
    },
    "tags": [
     "parameters"
    ]
   },
   "source": [
    "## Este notebook explora el uso de las funciones desde las basicas hasta las mas avanzadas, para la creacion de codigo, la programacion modular y la eficiencia del mismo, ademas de aspectos fundamentales de la programación con Python. Se cubren desde el manejo de variables y estructuras condicionales hasta el control de flujo con bucles y el uso avanzado de listas, permitiendo desarrollar habilidades en la resolución de problemas, manejo de datos y lógica de programación, esenciales para la construcción de programas robustos y eficientes. ##"
   ]
  },
  {
   "cell_type": "markdown",
   "metadata": {},
   "source": [
    "## Sección 2: Investigación y ejemplos ##"
   ]
  },
  {
   "cell_type": "markdown",
   "metadata": {},
   "source": [
    "🔹 3.1 Definición y Propósito de las Funciones en Python\n"
   ]
  },
  {
   "cell_type": "markdown",
   "metadata": {},
   "source": [
    "✅ ¿Qué son las funciones?\n"
   ]
  },
  {
   "cell_type": "code",
   "execution_count": 3,
   "metadata": {},
   "outputs": [
    {
     "name": "stdout",
     "output_type": "stream",
     "text": [
      "Hello world!\n"
     ]
    }
   ],
   "source": [
    "def hi():\n",
    "    print(\"Hello world!\")\n",
    "    \n",
    "hi()"
   ]
  },
  {
   "cell_type": "markdown",
   "metadata": {},
   "source": [
    "✅ Beneficios de modularizar código con funciones."
   ]
  },
  {
   "cell_type": "markdown",
   "metadata": {},
   "source": [
    "*Reusabilidad:\n",
    "\n",
    "    Las funciones permiten en encapsular bloques de codigo, evitando duplicacion, ademas partes \n",
    "    del programa pueden ser reutilizadas en otro codigo!.\n",
    "\n",
    "*Legibilidad y Organizacion: \n",
    "\n",
    "    Dividir el codigo en funciones facilita su lectura y comprension, cada funcion es para una tarea en especifico, mejorando asi la organizacion general y haciendo del mismo mas intuitivo.\n",
    "\n",
    "*Mantenimiento y Escalabilidad:\n",
    "\n",
    "    El codigo modularizado es mas sencillo de localizar y correguir. la funcion puede actualizarse sin afectar el resto del codigo.\n",
    "\n",
    "*Facilidad A la hora de probar:\n",
    "\n",
    "    Es posible realizar pruebas por separado ya que cada funcion es para una tarea concreta, lo que ayuda a la hora de comprobar su funcionamiento correcto\n",
    "\n",
    "*Abstraccion:\n",
    "\n",
    "    Las funciones funciones permiten ocultar detalles de implementacion. no se necesita saber el 'como' sino solo el 'que' lo que facilita su uso y el mantenimiento adecuado del codigo."
   ]
  },
  {
   "cell_type": "code",
   "execution_count": 4,
   "metadata": {},
   "outputs": [
    {
     "name": "stdout",
     "output_type": "stream",
     "text": [
      "Hola, Emmanuel\n"
     ]
    }
   ],
   "source": [
    "def hello(nombre):\n",
    "    \"\"\"Imprime un saludo personalizado.\"\"\"\n",
    "    print(\"Hola,\", nombre)\n",
    "\n",
    "hello(\"Emmanuel\")"
   ]
  },
  {
   "cell_type": "markdown",
   "metadata": {},
   "source": [
    "✅ Importancia de la reutilización del código.\n"
   ]
  },
  {
   "cell_type": "markdown",
   "metadata": {},
   "source": [
    "*Ahorro de tiempo y esfuerzo:\n",
    "\n",
    "    Al poder reutilizar fragmentos anteriores evitamos tener que escribirlos nuevamente, acelerando el proceso de desarrollo, ya que utilizamos componentes probados y usados en anteriores iteraciones.\n",
    "\n",
    "*Minimiza errores:\n",
    "\n",
    "    Utilizas codigo previamente probado y validado, lo cual mejora la estabilidad y confiabilidad del software al a ver ya pasado pruebas anteriores!\n",
    "\n",
    "*Facilidad de mantenimiento:\n",
    "\n",
    "    Al centralizar funcionalidades comunes en funciones, clases o módulos, se facilita la actualización y el mantenimiento del código. esto facilita la actualizacion y mantenimiento del codigo ya que solo se tiene que modificar la funcion utilizada de ese codigo.\n",
    "\n",
    "*Organizacion y modularidad:\n",
    "\n",
    "    La reutilización fomenta la modularización del código, lo que implica que el software se organiza en bloques independientes. facilitando la colaboracion entre desarrolladores y la posible integracion de funciones nuevas.\n",
    "\n",
    "*Escalabilidad y adaptabilidad:\n",
    "\n",
    "    Un código modular y reutilizable se adapta mejor a cambios y expansiones. a medidad que el proyecto se vuelve mas grande o se modifica, el utilizar modulos hace que el añadir nuevas partes de codigo sea mas sencillo y que no se haya que rehacer mucho del codigo base.\n"
   ]
  },
  {
   "cell_type": "code",
   "execution_count": 10,
   "metadata": {},
   "outputs": [
    {
     "name": "stdout",
     "output_type": "stream",
     "text": [
      "El área del círculo con radio 5 es: 1256.6370614359173\n",
      "El área del círculo con radio 10 es: 5026.548245743669\n"
     ]
    }
   ],
   "source": [
    "import math\n",
    "\n",
    "def calcular_area_circulo(radio):\n",
    "    \"\"\"Retorna el área de un círculo dado su radio.\"\"\"\n",
    "    return math.pi * (radio ** 2)\n",
    "\n",
    "# Uso de la función en diferentes contextos\n",
    "area1 = calcular_area_circulo(20)\n",
    "area2 = calcular_area_circulo(40)\n",
    "\n",
    "print(\"El área del círculo con radio 5 es:\", area1)\n",
    "print(\"El área del círculo con radio 10 es:\", area2)"
   ]
  },
  {
   "cell_type": "markdown",
   "metadata": {},
   "source": [
    "🔹 3.2 Tipos de Funciones en Python"
   ]
  },
  {
   "cell_type": "markdown",
   "metadata": {},
   "source": [
    "✅ Funciones con y sin retorno.\n",
    "\n",
    "    Una función puede devolver un valor utilizando la palabra clave return o simplemente realizar acciones sin devolver nada"
   ]
  },
  {
   "cell_type": "code",
   "execution_count": null,
   "metadata": {},
   "outputs": [
    {
     "name": "stdout",
     "output_type": "stream",
     "text": [
      "Hola, Emmanuel\n",
      "El Resultado de la multiplicacion: 15\n"
     ]
    }
   ],
   "source": [
    "# Función sin retorno: Saluda a la persona imprimiendo un mensaje.\n",
    "def Saludar(nombre):\n",
    "    print(\"Hola,\", nombre)\n",
    "\n",
    "Saludar(\"Emmanuel\")\n",
    "# Función con retorno: Suma dos números y devuelve el resultado.\n",
    "def multiplicar(a, b):\n",
    "    return a * b\n",
    "\n",
    "resultado = multiplicar(3, 5)\n",
    "print(\"El Resultado de la multiplicacion:\", resultado)"
   ]
  },
  {
   "cell_type": "markdown",
   "metadata": {},
   "source": [
    "✅ Funciones con parámetros y valores predeterminados.\n",
    "\n",
    "    Se pueden definir parámetros en una función e incluso asignarles valores por defecto. Esto permite llamar a la función sin especificar todos los argumentos."
   ]
  },
  {
   "cell_type": "code",
   "execution_count": null,
   "metadata": {},
   "outputs": [
    {
     "name": "stdout",
     "output_type": "stream",
     "text": [
      "Como Estas Juan\n",
      "Hola Ana\n"
     ]
    }
   ],
   "source": [
    "def saludar(nombre, mensaje):\n",
    "    print(mensaje, nombre)\n",
    "\n",
    "saludar(\"Juan\", \"Como Estas\")           \n",
    "saludar(\"Ana\", \"Hola\")      \n"
   ]
  },
  {
   "cell_type": "markdown",
   "metadata": {},
   "source": [
    "✅ Uso de *args y **kwargs\n",
    "\n",
    "    *args permite recibir una cantidad variable de argumentos posicionales\n",
    "    **kwargs permite recibir una cantidad variable de argumentos con nombre"
   ]
  },
  {
   "cell_type": "code",
   "execution_count": null,
   "metadata": {},
   "outputs": [
    {
     "name": "stdout",
     "output_type": "stream",
     "text": [
      "Argumentos posicionales: (1, 2, 3)\n",
      "Argumentos nombrados: {'nombre': 'Emmanuel,', 'edad': 28}\n"
     ]
    }
   ],
   "source": [
    "def imprimir_info(*args, **kwargs):\n",
    "    print(\"Argumentos posicionales:\", args)\n",
    "    print(\"Argumentos nombrados:\", kwargs)\n",
    "\n",
    "\n",
    "imprimir_info(1, 2, 3, nombre=\"Emmanuel,\", edad=28)"
   ]
  },
  {
   "cell_type": "markdown",
   "metadata": {},
   "source": [
    "✅ Funciones anónimas (lambda).\n",
    "\n",
    "    Las funciones lambda son funciones pequeñas y sin nombre que se definen en una sola línea."
   ]
  },
  {
   "cell_type": "code",
   "execution_count": null,
   "metadata": {},
   "outputs": [
    {
     "name": "stdout",
     "output_type": "stream",
     "text": [
      "La division de 28 es: 14.0\n"
     ]
    }
   ],
   "source": [
    "Divide = lambda x: x / 2\n",
    "\n",
    "print(\"La division de 28 es:\", Divide(28))"
   ]
  },
  {
   "cell_type": "markdown",
   "metadata": {},
   "source": [
    "✅ Funciones recursivas.\n",
    "\n",
    "    Una función recursiva es aquella que se llama a sí misma. se usa  para resolver otros subproblemas"
   ]
  },
  {
   "cell_type": "code",
   "execution_count": 36,
   "metadata": {},
   "outputs": [
    {
     "name": "stdout",
     "output_type": "stream",
     "text": [
      "Factorial de 5: 3628800\n"
     ]
    }
   ],
   "source": [
    "def factorial(n):\n",
    "    if n == 0:\n",
    "        return 1\n",
    "    else:\n",
    "        return n * factorial(n - 1)\n",
    "\n",
    "print(\"Factorial de 5:\", factorial(10))\n"
   ]
  },
  {
   "cell_type": "markdown",
   "metadata": {},
   "source": [
    "✅ Generadores (yield).\n",
    "\n",
    "    Los generadores son funciones que utilizan la palabra clave yield para devolver un valor"
   ]
  },
  {
   "cell_type": "code",
   "execution_count": 50,
   "metadata": {},
   "outputs": [
    {
     "name": "stdout",
     "output_type": "stream",
     "text": [
      "numero 0\n",
      "numero 1\n",
      "numero 2\n",
      "numero 3\n",
      "numero 4\n",
      "numero 5\n",
      "numero 6\n",
      "numero 7\n",
      "numero 8\n",
      "numero 9\n"
     ]
    }
   ],
   "source": [
    "def countdown(n):\n",
    "    i = 0\n",
    "    while i < n:\n",
    "        yield i\n",
    "        i += 1\n",
    "        \n",
    "for numero in countdown(10):\n",
    "    print(\"numero\", numero)"
   ]
  },
  {
   "cell_type": "markdown",
   "metadata": {},
   "source": [
    "✅ Closures y decoradores.\n",
    "\n",
    "    Un closure es una función anidada que recuerda el estado de las variables\n",
    "\n",
    "    Un decorador es una función que recibe otra función como argumento y extiende su comportamiento sin modificarla directamente"
   ]
  },
  {
   "cell_type": "code",
   "execution_count": 65,
   "metadata": {},
   "outputs": [
    {
     "name": "stdout",
     "output_type": "stream",
     "text": [
      "Hola como estas, Emmanuel!\n",
      "Antes de ejecutar la función. Ana\n",
      "Hola, Ana\n",
      "Después de ejecutar la función.\n"
     ]
    }
   ],
   "source": [
    "##Ejemplo de un Closure\n",
    "def crear_saludo(saludo):\n",
    "    def saludo_persona(nombre):\n",
    "        return (f\"{saludo}, {nombre}!\")\n",
    "    return saludo_persona\n",
    "\n",
    "Saludar = crear_saludo(\"Hola como estas\")\n",
    "print(Saludar(\"Emmanuel\"))\n",
    "\n",
    "##ejemplo de un decorador\n",
    "\n",
    "def decorador(funcion):\n",
    "    def envoltura(*args, **kwargs):\n",
    "        print(\"Antes de ejecutar la función.\", *args)\n",
    "        resultado = funcion(*args, **kwargs)\n",
    "        print(\"Después de ejecutar la función.\", **kwargs)\n",
    "        return resultado\n",
    "    return envoltura\n",
    "\n",
    "@decorador\n",
    "def saludar(nombre):\n",
    "    print(f\"Hola, {nombre}\")\n",
    "\n",
    "saludar(\"Ana\")"
   ]
  },
  {
   "cell_type": "markdown",
   "metadata": {},
   "source": [
    "## Explicacion de un Closure ##\n",
    "\n",
    "    Explicación:\n",
    "    Definición de la función externa (crear_saludo):\n",
    "\n",
    "    La función crear_saludo recibe un parámetro llamado saludo. Este parámetro es una cadena de texto que se usará como parte del mensaje de saludo.\n",
    "    Dentro de crear_saludo se define una función interna llamada saludo_persona, que recibe otro parámetro, nombre.\n",
    "    Definición de la función interna (saludo_persona):\n",
    "\n",
    "    La función saludo_persona utiliza el parámetro saludo (proveniente de la función externa) junto con el parámetro nombre que se le pasa directamente.\n",
    "    Retorna una cadena formateada usando una f-string: f\"{saludo}, {nombre}!\", lo que resulta en un mensaje combinado que saluda a la persona.\n",
    "    Retorno del closure:\n",
    "\n",
    "    La función crear_saludo retorna la función interna saludo_persona sin ejecutarla. En este punto, se crea un closure: la función saludo_persona \"recuerda\" el valor del parámetro saludo que se le pasó a crear_saludo.\n",
    "    Creación del closure:\n",
    "\n",
    "    La línea Saludar = crear_saludo(\"Hola como estas\") invoca a crear_saludo con el argumento \"Hola como estas\".\n",
    "    Como resultado, crear_saludo retorna la función saludo_persona con el valor \"Hola como estas\" \"atrapado\" en su entorno.\n",
    "    Ahora, la variable Saludar es una función que espera un argumento nombre y utilizará internamente el saludo \"Hola como estas\".\n",
    "    \n",
    "    Uso del closure:\n",
    "\n",
    "    Finalmente, al ejecutar print(Saludar(\"Emmanuel\")), se llama a la función que está en Saludar pasando el argumento \"Emmanuel\" para el parámetro nombre.\n",
    "    La función interna saludo_persona utiliza el saludo capturado y el nombre proporcionado para retornar la cadena: \"Hola como estas, Emmanuel!\".\n",
    "    Este mensaje es lo que se imprime en la consola."
   ]
  },
  {
   "cell_type": "markdown",
   "metadata": {},
   "source": [
    "## Explicacion de un decorador ##\n",
    "\n",
    "    Definición del decorador:\n",
    "    La función mi_decorador recibe otra función (func) y define una función interna llamada envoltura que:\n",
    "\n",
    "    Imprime un mensaje antes de llamar a la función original.\n",
    "    Ejecuta la función original y guarda su resultado.\n",
    "    Imprime otro mensaje después de la ejecución.\n",
    "    Retorna el resultado obtenido.\n",
    "    Aplicación del decorador:\n",
    "    La línea @mi_decorador se utiliza antes de la definición de saludar(), lo que significa que cada vez que se llame a saludar(), en realidad se ejecutará la función envoltura definida en el decorador.\n",
    "\n",
    "    Ejecución:\n",
    "    Al llamar a saludar(), se imprimen los mensajes antes y después de ejecutar la función, demostrando cómo el decorador envuelve y modifica el comportamiento de la función original.\n",
    "\n"
   ]
  },
  {
   "cell_type": "markdown",
   "metadata": {},
   "source": [
    "🔹 3.3 Aplicación de Funciones en Problemas Reales"
   ]
  },
  {
   "cell_type": "markdown",
   "metadata": {},
   "source": [
    "✅ Aplicación en estructuras de datos (listas, diccionarios)."
   ]
  },
  {
   "cell_type": "code",
   "execution_count": null,
   "metadata": {},
   "outputs": [],
   "source": [
    "# Lista de productos\n",
    "productos = [\n",
    "    {\"nombre\": \"Camiseta\", \"precio\": 25.0},\n",
    "    {\"nombre\": \"Pantalón\", \"precio\": 40.0},\n",
    "    {\"nombre\": \"Zapatos\", \"precio\": 60.0},\n",
    "    {\"nombre\": \"Gorra\", \"precio\": 15.0},\n",
    "]\n",
    "\n",
    "def filtrar_productos_por_precio(productos, umbral):\n",
    "    \"\"\"\n",
    "    Retorna una lista con los nombres de los productos cuyo precio es mayor al umbral.\n",
    "    \"\"\"\n",
    "    return [producto[\"nombre\"] for producto in productos if producto[\"precio\"] > umbral]\n",
    "\n",
    "productos_caros = filtrar_productos_por_precio(productos, 30)\n",
    "print(\"Productos con precio mayor a 30:\", productos_caros)"
   ]
  },
  {
   "cell_type": "markdown",
   "metadata": {},
   "source": [
    "✅ Uso de funciones en procesamiento de datos."
   ]
  },
  {
   "cell_type": "code",
   "execution_count": null,
   "metadata": {},
   "outputs": [],
   "source": [
    "def normalizar_datos(datos):\n",
    "    \"\"\"\n",
    "    Normaliza una lista de números para que sus valores estén entre 0 y 1.\n",
    "    \"\"\"\n",
    "    minimo = min(datos)\n",
    "    maximo = max(datos)\n",
    "    rango = maximo - minimo\n",
    "    # Evitar división por cero en caso de datos constantes.\n",
    "    return [(x - minimo) / rango if rango != 0 else 0 for x in datos]\n",
    "\n",
    "valores = [10, 20, 30, 40, 50]\n",
    "valores_normalizados = normalizar_datos(valores)\n",
    "print(\"Valores normalizados:\", valores_normalizados)"
   ]
  },
  {
   "cell_type": "markdown",
   "metadata": {},
   "source": [
    "\n",
    "✅ Optimización del rendimiento con funciones.\n"
   ]
  },
  {
   "cell_type": "code",
   "execution_count": 67,
   "metadata": {},
   "outputs": [
    {
     "name": "stdout",
     "output_type": "stream",
     "text": [
      "Fibonacci(30): 832040\n"
     ]
    }
   ],
   "source": [
    "from functools import lru_cache\n",
    "\n",
    "@lru_cache(maxsize=None)\n",
    "def fibonacci(n):\n",
    "    \"\"\"\n",
    "    Calcula el n-ésimo número de Fibonacci de forma recursiva usando memoización.\n",
    "    \"\"\"\n",
    "    if n < 2:\n",
    "        return n\n",
    "    return fibonacci(n - 1) + fibonacci(n - 2)\n",
    "\n",
    "print(\"Fibonacci(30):\", fibonacci(30))"
   ]
  },
  {
   "cell_type": "markdown",
   "metadata": {},
   "source": [
    "✅ Comparación entre funciones definidas por el usuario y funciones integradas (len(), sum(),\n",
    "etc.)."
   ]
  },
  {
   "cell_type": "code",
   "execution_count": 69,
   "metadata": {},
   "outputs": [
    {
     "name": "stdout",
     "output_type": "stream",
     "text": [
      "Suma personalizada: 15\n",
      "Suma con función integrada: 15\n"
     ]
    }
   ],
   "source": [
    "def suma_personalizada(lista):\n",
    "    \"\"\"\n",
    "    Suma los elementos de una lista de números.\n",
    "    \"\"\"\n",
    "    total = 0\n",
    "    for numero in lista:\n",
    "        total += numero\n",
    "    return total\n",
    "\n",
    "numeros = [1, 2, 3, 4, 5]\n",
    "print(\"Suma personalizada:\", suma_personalizada(numeros))\n",
    "\n",
    "### uso de funcion integrada SUM() ###\n",
    "\n",
    "print(\"Suma con función integrada:\", sum(numeros))"
   ]
  },
  {
   "cell_type": "markdown",
   "metadata": {},
   "source": [
    "📊 Sección 3: Conclusiones"
   ]
  },
  {
   "cell_type": "markdown",
   "metadata": {},
   "source": [
    "\n",
    "En conclusion el uso de funciones facilitan mucho el acortamiento y repiticion de codigo mas pequeño ya previamente guardado para su utilizacion luego\n",
    "Permiten un uso de tiempo y esfuerzo reducido, mas estabilidad y confiabilidad de el codigo, menos modificacion del mismo, un codigo mas corto, conciso y reducido con mucho mas alcance y adaptabilidad.\n",
    "Las funciones ayudan mucho a disminuir el tiempo que se llevaria en escribir todo el condigo en vez de usarlo seccionado en pequeñas piezas de codigo y llamarlas al codigo base usando import, random, for, from,\n",
    "ademas el uso de objetos facilita la interaccion y automatizacion de datos y formulas matematicas complejas!"
   ]
  },
  {
   "cell_type": "markdown",
   "metadata": {},
   "source": [
    "📊 Sección Ultima: Referencias!"
   ]
  },
  {
   "cell_type": "markdown",
   "metadata": {},
   "source": [
    "La mayor parte de los ejemplos y uso de informacion se extrajo de https://www.w3schools.com/python/\n",
    "\n",
    "python tutorial de W3Schools, excelente pagina!"
   ]
  },
  {
   "cell_type": "markdown",
   "metadata": {},
   "source": [
    "## Documentacion oficial de python ##\n",
    "\n",
    "***Tutorial de Python (en inglés y español):***\n",
    "\n",
    "https://docs.python.org/3/tutorial/\n",
    "https://docs.python.org/es/3/tutorial/index.html\n",
    "\n",
    "En este tutorial se abordan temas fundamentales como la definición de funciones, parámetros, *args y **kwargs, expresiones lambda, recursión y generadores.\n",
    "\n",
    "***Referencia de funciones integradas:***\n",
    "\n",
    "https://docs.python.org/3/library/functions.html\n",
    "\n",
    "información sobre funciones como len(), sum(), max(), entre otras.\n",
    "\n",
    "***Sección de estructuras de datos:***\n",
    "\n",
    "https://docs.python.org/3/tutorial/datastructures.html\n",
    "\n",
    "**Artículos y Tutoriales en Línea**\n",
    "\n",
    "***Decoradores y Closures:***\n",
    "\n",
    "https://realpython.com/primer-on-python-decorators/\n",
    "\n",
    "**Funciones con *args y kwargs:**\n",
    "\n",
    "https://docs.python.org/3/tutorial/controlflow.html#arbitrary-argument-lists\n",
    "Python Inner Functions and Closures in python documentation\n",
    "\n",
    "**Generadores (yield):**\n",
    "\n",
    "Introduction to Python Generators in python documentation\n",
    "\n",
    "**Recursión en Python:**\n",
    "\n",
    "Recursion in Python (Programiz)\n",
    "\n",
    "**Adicionales**\n",
    "\n",
    "https://www.w3schools.com/python/\n"
   ]
  }
 ],
 "metadata": {
  "kernelspec": {
   "display_name": "Python 3",
   "language": "python",
   "name": "python3"
  },
  "language_info": {
   "codemirror_mode": {
    "name": "ipython",
    "version": 3
   },
   "file_extension": ".py",
   "mimetype": "text/x-python",
   "name": "python",
   "nbconvert_exporter": "python",
   "pygments_lexer": "ipython3",
   "version": "3.13.1"
  }
 },
 "nbformat": 4,
 "nbformat_minor": 2
}
