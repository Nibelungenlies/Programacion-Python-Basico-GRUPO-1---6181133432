{
 "cells": [
  {
   "cell_type": "markdown",
   "metadata": {},
   "source": [
    "# 📌 Programación Orientada a Objetos(POO) en Python\n",
    "## Autor: Emmanuel ALfaro Brenes\n",
    "### Fecha: 2025/02/06\n",
    "\n",
    "## 1. Introducción a la POO \n",
    "- ¿Qué es la POO? \n",
    "- Características principales \n",
    "- Comparación con la programación estructurada \n",
    "\n",
    "## 2. Conceptos Claves de la POO \n",
    "- Clases y Objetos \n",
    "- Atributos y Métodos \n",
    "- Encapsulamiento \n",
    "- Herencia \n",
    "- Polimorfismo \n",
    "\n",
    "## 3. Ejemplos Prácticos de cada Concepto \n",
    "- Definir una clase simple \n",
    "- Crear y manipular objetos \n",
    "- Aplicar herencia y polimorfismo \n",
    "\n",
    "## 4. Desarrollo de un Proyecto Aplicado \n",
    "- Descripción del proyecto \n",
    "- Implementación paso a paso \n",
    "\n",
    "--- \n",
    "\n",
    "## 🟢 1. Introducción a la POO \n",
    "La **Programación Orientada a Objetos (POO)** es un paradigma de programación basado en la idea de modelar entidades del mundo real a través de **objetos**. \n",
    "\n",
    "### ✅ Características clave de la POO: \n",
    "- **Abstracción:** Modela objetos del mundo real en código. \n",
    "- **Encapsulamiento:** Protege los datos y métodos dentro de una clase. \n",
    "- **Herencia:** Permite reutilizar código mediante la relación padre-hijo. \n",
    "- **Polimorfismo:** Usa el mismo método con diferentes implementaciones. \n",
    "\n",
    "### 📌 Diferencia entre programación estructurada y POO: \n",
    "\n",
    "| Característica | Programación Estructurada | Programación Orientada a Objetos | \n",
    "|---------------------|------------------------|--------------------------------| \n",
    "| **Organización** | Basada en funciones | Basada en clases y objetos | \n",
    "| **Reutilización** | Baja | Alta | \n",
    "| **Mantenimiento** | Más complejo | Más modular y escalable | "
   ]
  },
  {
   "cell_type": "markdown",
   "metadata": {},
   "source": [
    "##🟡 2. Conceptos Claves de la POO en Python\n",
    "###📌 Clases y Objetos\n",
    "En Python, una clase es un -modelo- que define la estructura y comportamiento de un *objeto*. Un objeto es una instancia de una clase."
   ]
  },
  {
   "cell_type": "code",
   "execution_count": null,
   "metadata": {},
   "outputs": [],
   "source": [
    "#como crear una clase\n",
    "\n",
    "lista = [0,1,2,3]\n",
    "print(type(lista))"
   ]
  }
 ],
 "metadata": {
  "language_info": {
   "name": "python"
  }
 },
 "nbformat": 4,
 "nbformat_minor": 2
}
