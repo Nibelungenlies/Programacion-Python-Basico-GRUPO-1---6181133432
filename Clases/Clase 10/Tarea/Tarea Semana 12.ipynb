{
 "cells": [
  {
   "attachments": {},
   "cell_type": "markdown",
   "metadata": {
    "azdata_cell_guid": "7177e949-2d74-4ba8-8331-3f560608d96b"
   },
   "source": [
    "# **Ejercicio: Análisis y Visualización de Datos desde un CSV**\n",
    "\n",
    "### Prof. Andrés Mena Abarca\n",
    "\n",
    "**Objetivo:**  \n",
    "Leer datos de un archivo CSV, realizar un análisis exploratorio y crear diferentes gráficos para visualizar la información utilizando Pandas y Matplotlib."
   ]
  },
  {
   "cell_type": "markdown",
   "metadata": {
    "azdata_cell_guid": "3ba88f58-c4f2-47f5-9267-9b92d62138f2"
   },
   "source": [
    "# Estudiante: "
   ]
  },
  {
   "cell_type": "code",
   "execution_count": 3,
   "metadata": {
    "azdata_cell_guid": "b42b97a2-5b46-4fde-9c0e-6f49af62d310",
    "language": "python"
   },
   "outputs": [
    {
     "data": {
      "application/vnd.microsoft.datawrangler.viewer.v0+json": {
       "columns": [
        {
         "name": "index",
         "rawType": "int64",
         "type": "integer"
        },
        {
         "name": "Año",
         "rawType": "int64",
         "type": "integer"
        },
        {
         "name": "Nacimientos",
         "rawType": "int64",
         "type": "integer"
        },
        {
         "name": "Defunciones",
         "rawType": "int64",
         "type": "integer"
        }
       ],
       "conversionMethod": "pd.DataFrame",
       "ref": "296c6938-b0cf-406f-9d59-8b26860c2456",
       "rows": [
        [
         "0",
         "1950",
         "37248",
         "9769"
        ],
        [
         "1",
         "1951",
         "39239",
         "9631"
        ],
        [
         "2",
         "1952",
         "42461",
         "9902"
        ],
        [
         "3",
         "1953",
         "42817",
         "10312"
        ],
        [
         "4",
         "1954",
         "48157",
         "9713"
        ],
        [
         "5",
         "1955",
         "48903",
         "9998"
        ],
        [
         "6",
         "1956",
         "51481",
         "9518"
        ],
        [
         "7",
         "1957",
         "51749",
         "10471"
        ],
        [
         "8",
         "1958",
         "53899",
         "9692"
        ],
        [
         "9",
         "1959",
         "60414",
         "10176"
        ],
        [
         "10",
         "1960",
         "62794",
         "10063"
        ],
        [
         "11",
         "1961",
         "68377",
         "9726"
        ],
        [
         "12",
         "1962",
         "65349",
         "10861"
        ],
        [
         "13",
         "1963",
         "66776",
         "11376"
        ],
        [
         "14",
         "1964",
         "65433",
         "12269"
        ],
        [
         "15",
         "1965",
         "66836",
         "11649"
        ],
        [
         "16",
         "1966",
         "65300",
         "11379"
        ],
        [
         "17",
         "1967",
         "63979",
         "11214"
        ],
        [
         "18",
         "1968",
         "59213",
         "10653"
        ],
        [
         "19",
         "1969",
         "57984",
         "11599"
        ],
        [
         "20",
         "1970",
         "57757",
         "11504"
        ],
        [
         "21",
         "1971",
         "56338",
         "10575"
        ],
        [
         "22",
         "1972",
         "57438",
         "10855"
        ],
        [
         "23",
         "1973",
         "53455",
         "9702"
        ],
        [
         "24",
         "1974",
         "56769",
         "9512"
        ],
        [
         "25",
         "1975",
         "58140",
         "9615"
        ],
        [
         "26",
         "1976",
         "59965",
         "9356"
        ],
        [
         "27",
         "1977",
         "64188",
         "8907"
        ],
        [
         "28",
         "1978",
         "67658",
         "8596"
        ],
        [
         "29",
         "1979",
         "69246",
         "9114"
        ],
        [
         "30",
         "1980",
         "69989",
         "9232"
        ],
        [
         "31",
         "1981",
         "72255",
         "8941"
        ],
        [
         "32",
         "1982",
         "73111",
         "9137"
        ],
        [
         "33",
         "1983",
         "72944",
         "9392"
        ],
        [
         "34",
         "1984",
         "76878",
         "9893"
        ],
        [
         "35",
         "1985",
         "84337",
         "10465"
        ],
        [
         "36",
         "1986",
         "83194",
         "10449"
        ],
        [
         "37",
         "1987",
         "80326",
         "10687"
        ],
        [
         "38",
         "1988",
         "81376",
         "10944"
        ],
        [
         "39",
         "1989",
         "83460",
         "11273"
        ],
        [
         "40",
         "1990",
         "81939",
         "11359"
        ],
        [
         "41",
         "1991",
         "81110",
         "11792"
        ],
        [
         "42",
         "1992",
         "80164",
         "12253"
        ],
        [
         "43",
         "1993",
         "79714",
         "12543"
        ],
        [
         "44",
         "1994",
         "80391",
         "13313"
        ],
        [
         "45",
         "1995",
         "80306",
         "14061"
        ],
        [
         "46",
         "1996",
         "79203",
         "14613"
        ],
        [
         "47",
         "1997",
         "78018",
         "14260"
        ],
        [
         "48",
         "1998",
         "76982",
         "14708"
        ],
        [
         "49",
         "1999",
         "78526",
         "15052"
        ]
       ],
       "shape": {
        "columns": 3,
        "rows": 72
       }
      },
      "text/html": [
       "<div>\n",
       "<style scoped>\n",
       "    .dataframe tbody tr th:only-of-type {\n",
       "        vertical-align: middle;\n",
       "    }\n",
       "\n",
       "    .dataframe tbody tr th {\n",
       "        vertical-align: top;\n",
       "    }\n",
       "\n",
       "    .dataframe thead th {\n",
       "        text-align: right;\n",
       "    }\n",
       "</style>\n",
       "<table border=\"1\" class=\"dataframe\">\n",
       "  <thead>\n",
       "    <tr style=\"text-align: right;\">\n",
       "      <th></th>\n",
       "      <th>Año</th>\n",
       "      <th>Nacimientos</th>\n",
       "      <th>Defunciones</th>\n",
       "    </tr>\n",
       "  </thead>\n",
       "  <tbody>\n",
       "    <tr>\n",
       "      <th>0</th>\n",
       "      <td>1950</td>\n",
       "      <td>37248</td>\n",
       "      <td>9769</td>\n",
       "    </tr>\n",
       "    <tr>\n",
       "      <th>1</th>\n",
       "      <td>1951</td>\n",
       "      <td>39239</td>\n",
       "      <td>9631</td>\n",
       "    </tr>\n",
       "    <tr>\n",
       "      <th>2</th>\n",
       "      <td>1952</td>\n",
       "      <td>42461</td>\n",
       "      <td>9902</td>\n",
       "    </tr>\n",
       "    <tr>\n",
       "      <th>3</th>\n",
       "      <td>1953</td>\n",
       "      <td>42817</td>\n",
       "      <td>10312</td>\n",
       "    </tr>\n",
       "    <tr>\n",
       "      <th>4</th>\n",
       "      <td>1954</td>\n",
       "      <td>48157</td>\n",
       "      <td>9713</td>\n",
       "    </tr>\n",
       "    <tr>\n",
       "      <th>...</th>\n",
       "      <td>...</td>\n",
       "      <td>...</td>\n",
       "      <td>...</td>\n",
       "    </tr>\n",
       "    <tr>\n",
       "      <th>67</th>\n",
       "      <td>2017</td>\n",
       "      <td>68811</td>\n",
       "      <td>23246</td>\n",
       "    </tr>\n",
       "    <tr>\n",
       "      <th>68</th>\n",
       "      <td>2018</td>\n",
       "      <td>68449</td>\n",
       "      <td>23806</td>\n",
       "    </tr>\n",
       "    <tr>\n",
       "      <th>69</th>\n",
       "      <td>2019</td>\n",
       "      <td>64274</td>\n",
       "      <td>24292</td>\n",
       "    </tr>\n",
       "    <tr>\n",
       "      <th>70</th>\n",
       "      <td>2020</td>\n",
       "      <td>57848</td>\n",
       "      <td>26205</td>\n",
       "    </tr>\n",
       "    <tr>\n",
       "      <th>71</th>\n",
       "      <td>2021</td>\n",
       "      <td>54288</td>\n",
       "      <td>31093</td>\n",
       "    </tr>\n",
       "  </tbody>\n",
       "</table>\n",
       "<p>72 rows × 3 columns</p>\n",
       "</div>"
      ],
      "text/plain": [
       "     Año  Nacimientos  Defunciones\n",
       "0   1950        37248         9769\n",
       "1   1951        39239         9631\n",
       "2   1952        42461         9902\n",
       "3   1953        42817        10312\n",
       "4   1954        48157         9713\n",
       "..   ...          ...          ...\n",
       "67  2017        68811        23246\n",
       "68  2018        68449        23806\n",
       "69  2019        64274        24292\n",
       "70  2020        57848        26205\n",
       "71  2021        54288        31093\n",
       "\n",
       "[72 rows x 3 columns]"
      ]
     },
     "execution_count": 3,
     "metadata": {},
     "output_type": "execute_result"
    }
   ],
   "source": [
    "# Importar la biblioteca pandas, que se utiliza para manipular y analizar datos estructurados.\n",
    "import pandas as pd\n",
    "\n",
    "# Definir la ruta del archivo CSV que contiene los datos.\n",
    "# Aquí se especifica el nombre del archivo (puede ser relativo o absoluto).\n",
    "ruta_archivo_csv = \"nacimientos_defunciones.csv\"\n",
    "\n",
    "# Leer el archivo CSV en un DataFrame de pandas.\n",
    "# El parámetro `delimiter=','` indica que las columnas están separadas por comas (formato CSV estándar).\n",
    "df = pd.read_csv(ruta_archivo_csv, delimiter=',')\n",
    "\n",
    "# Mostrar el contenido del DataFrame cargado.\n",
    "# Esto permite visualizar los datos en forma tabular (filas y columnas).\n",
    "df\n"
   ]
  },
  {
   "attachments": {},
   "cell_type": "markdown",
   "metadata": {
    "azdata_cell_guid": "d005cd9e-721b-46da-bd74-5e35ba4fa00b"
   },
   "source": [
    "## **Limpiar y procesar el DataFrame**\n",
    "\n",
    "El DataFrame `df` tiene las siguientes columnas:\n",
    "\n",
    "- **Año**: Esta columna contiene los años correspondientes a los registros demográficos.\n",
    "- **Nacimientos**: Esta columna contiene la cantidad de nacimientos registrados en el año.\n",
    "- **Defunciones**: Esta columna contiene la cantidad de defunciones registradas en el año.\n",
    "- **Unnamed: x**: (si existieran columnas adicionales) Estas columnas contienen datos no deseados o nulos y deben ser eliminadas para limpiar el DataFrame.\n",
    "\n",
    "### **Pasos para la limpieza y procesamiento:**\n",
    "\n",
    "1. **Eliminar columnas innecesarias**: Si hay columnas como `Unnamed: x`, eliminarlas del DataFrame.\n",
    "2. **Eliminar filas nulas o no válidas**: Asegurarse de que los valores en las columnas relevantes no contengan datos faltantes.\n",
    "3. **Convertir los datos a tipos adecuados**: Verificar y convertir las columnas numéricas a su formato correcto (por ejemplo, `int` o `float` para los valores numéricos).\n",
    "4. **Guardar el DataFrame limpio**: Exportar el resultado a un nuevo archivo CSV para análisis posterior."
   ]
  },
  {
   "cell_type": "code",
   "execution_count": 4,
   "metadata": {
    "azdata_cell_guid": "9a41792e-4456-4cec-b513-384a94c0d5da",
    "language": "python"
   },
   "outputs": [
    {
     "name": "stdout",
     "output_type": "stream",
     "text": [
      "Shape:  (72, 3)\n",
      "Columnas:  Index(['Año', 'Nacimientos', 'Defunciones'], dtype='object')\n",
      "Tipado: \n",
      " Año            int64\n",
      "Nacimientos    int64\n",
      "Defunciones    int64\n",
      "dtype: object\n"
     ]
    }
   ],
   "source": [
    "print('Shape: ',df.shape)\n",
    "print('Columnas: ', df.columns)\n",
    "print('Tipado: \\n', df.dtypes)"
   ]
  },
  {
   "cell_type": "code",
   "execution_count": 5,
   "metadata": {
    "azdata_cell_guid": "427670aa-0fd9-476e-8ae8-b8db473deab1",
    "language": "python"
   },
   "outputs": [
    {
     "data": {
      "application/vnd.microsoft.datawrangler.viewer.v0+json": {
       "columns": [
        {
         "name": "index",
         "rawType": "int64",
         "type": "integer"
        },
        {
         "name": "Año",
         "rawType": "int64",
         "type": "integer"
        },
        {
         "name": "Nacimientos",
         "rawType": "int64",
         "type": "integer"
        },
        {
         "name": "Defunciones",
         "rawType": "int64",
         "type": "integer"
        }
       ],
       "conversionMethod": "pd.DataFrame",
       "ref": "91b210cd-bd47-49ed-a8db-5cacad8fe766",
       "rows": [
        [
         "0",
         "1950",
         "37248",
         "9769"
        ],
        [
         "1",
         "1951",
         "39239",
         "9631"
        ],
        [
         "2",
         "1952",
         "42461",
         "9902"
        ],
        [
         "3",
         "1953",
         "42817",
         "10312"
        ],
        [
         "4",
         "1954",
         "48157",
         "9713"
        ]
       ],
       "shape": {
        "columns": 3,
        "rows": 5
       }
      },
      "text/html": [
       "<div>\n",
       "<style scoped>\n",
       "    .dataframe tbody tr th:only-of-type {\n",
       "        vertical-align: middle;\n",
       "    }\n",
       "\n",
       "    .dataframe tbody tr th {\n",
       "        vertical-align: top;\n",
       "    }\n",
       "\n",
       "    .dataframe thead th {\n",
       "        text-align: right;\n",
       "    }\n",
       "</style>\n",
       "<table border=\"1\" class=\"dataframe\">\n",
       "  <thead>\n",
       "    <tr style=\"text-align: right;\">\n",
       "      <th></th>\n",
       "      <th>Año</th>\n",
       "      <th>Nacimientos</th>\n",
       "      <th>Defunciones</th>\n",
       "    </tr>\n",
       "  </thead>\n",
       "  <tbody>\n",
       "    <tr>\n",
       "      <th>0</th>\n",
       "      <td>1950</td>\n",
       "      <td>37248</td>\n",
       "      <td>9769</td>\n",
       "    </tr>\n",
       "    <tr>\n",
       "      <th>1</th>\n",
       "      <td>1951</td>\n",
       "      <td>39239</td>\n",
       "      <td>9631</td>\n",
       "    </tr>\n",
       "    <tr>\n",
       "      <th>2</th>\n",
       "      <td>1952</td>\n",
       "      <td>42461</td>\n",
       "      <td>9902</td>\n",
       "    </tr>\n",
       "    <tr>\n",
       "      <th>3</th>\n",
       "      <td>1953</td>\n",
       "      <td>42817</td>\n",
       "      <td>10312</td>\n",
       "    </tr>\n",
       "    <tr>\n",
       "      <th>4</th>\n",
       "      <td>1954</td>\n",
       "      <td>48157</td>\n",
       "      <td>9713</td>\n",
       "    </tr>\n",
       "  </tbody>\n",
       "</table>\n",
       "</div>"
      ],
      "text/plain": [
       "    Año  Nacimientos  Defunciones\n",
       "0  1950        37248         9769\n",
       "1  1951        39239         9631\n",
       "2  1952        42461         9902\n",
       "3  1953        42817        10312\n",
       "4  1954        48157         9713"
      ]
     },
     "execution_count": 5,
     "metadata": {},
     "output_type": "execute_result"
    }
   ],
   "source": [
    "# Eliminar filas con valores nulos en cualquier columna\n",
    "df.dropna(inplace=True)\n",
    "\n",
    "df.head()"
   ]
  },
  {
   "attachments": {},
   "cell_type": "markdown",
   "metadata": {
    "azdata_cell_guid": "8ff767f7-154c-4c01-95fa-a551121f5c5a"
   },
   "source": [
    "### **1\\. Gráfico de líneas: Nacimientos y Defunciones por año**\n",
    "\n",
    "### \n",
    "\n",
    "Este gráfico muestra la tendencia de nacimientos y defunciones a lo largo de los años."
   ]
  },
  {
   "cell_type": "code",
   "execution_count": 6,
   "metadata": {
    "azdata_cell_guid": "e371ccae-796f-447e-832a-fa9b2146bfc7",
    "language": "python"
   },
   "outputs": [
    {
     "name": "stderr",
     "output_type": "stream",
     "text": [
      "C:\\Users\\Nibelungen\\AppData\\Local\\Temp\\ipykernel_12152\\2018995937.py:16: UserWarning: No artists with labels found to put in legend.  Note that artists whose label start with an underscore are ignored when legend() is called with no argument.\n",
      "  plt.legend()\n"
     ]
    },
    {
     "data": {
      "text/plain": [
       "<function matplotlib.pyplot.show(close=None, block=None)>"
      ]
     },
     "execution_count": 6,
     "metadata": {},
     "output_type": "execute_result"
    },
    {
     "data": {
      "image/png": "[encoded data removed]",
      "text/plain": [
       "<Figure size 1500x500 with 1 Axes>"
      ]
     },
     "metadata": {},
     "output_type": "display_data"
    }
   ],
   "source": [
    "import matplotlib.pyplot as plt\n",
    "\n",
    "plt.figure(figsize= (15,5))\n",
    "\n",
    "#el eje Y va a ser Defunciones\n",
    "#el eje X va a ser años\n",
    "#Dos Colecciones en el grafico\n",
    "#identifica   X             Y\n",
    "plt.plot(df['Año'],df['Defunciones'],marker='o',markersize=\"3\",lw=2, color='red')\n",
    "plt.plot(df['Año'],df['Nacimientos'],marker='o',markersize=\"3\",lw=2, color='blue')\n",
    "\n",
    "plt.grid(linestyle='--', alpha=0.4)\n",
    "plt.xlabel('años',fontsize=14)\n",
    "plt.ylabel('cantidad',fontsize=16)\n",
    "plt.title(f'Tendencias Defunciones y Nacimientos \\n {df['Año'].min()} hasta {df['Año'].max()}')\n",
    "plt.legend()\n",
    "plt.show"
   ]
  },
  {
   "cell_type": "code",
   "execution_count": 7,
   "metadata": {},
   "outputs": [
    {
     "data": {
      "text/plain": [
       "Text(0.5, 1.0, 'Tendencias Defunciones y Nacimientos\\n1950 hasta 2021')"
      ]
     },
     "execution_count": 7,
     "metadata": {},
     "output_type": "execute_result"
    },
    {
     "data": {
      "image/png": "[encoded data removed]",
      "text/plain": [
       "<Figure size 1700x700 with 1 Axes>"
      ]
     },
     "metadata": {},
     "output_type": "display_data"
    }
   ],
   "source": [
    "import matplotlib.pyplot as plt\n",
    "plt.figure(figsize=(17,7))\n",
    "\n",
    "#El eje Y Defunciones \n",
    "#Eje X Años\n",
    "#Dos Coleccione en el gráfico\n",
    "#Idenfica     x             y\n",
    "plt.plot(df['Año'],df['Defunciones'],marker='o',markersize=\"4\",lw=2, color='red',label='Defunciones')\n",
    "plt.plot(df['Año'],df['Nacimientos'],marker='o',markersize=\"4\",lw=2, color='green',label='Nacimientos')\n",
    "\n",
    "#Agrego el cuadriculado del fondo\n",
    "plt.grid(linestyle='--', alpha=0.4)\n",
    "\n",
    "#Dibujo la etiqueta Label de el plot\n",
    "plt.legend()\n",
    "\n",
    "plt.xlabel('Años',fontsize=16)\n",
    "plt.ylabel('Cantidad', fontsize=16)\n",
    "plt.title(f'Tendencias Defunciones y Nacimientos\\n{df['Año'].min()} hasta {df['Año'].max()}',fontsize=20)"
   ]
  },
  {
   "attachments": {},
   "cell_type": "markdown",
   "metadata": {
    "azdata_cell_guid": "bdeecaaf-b341-4d86-b4f5-4153c69500c9",
    "language": "python"
   },
   "source": [
    "### **2\\. Selección y Filtrado de Datos**\n",
    "\n",
    "**Objetivo:** Practicar la selección de columnas y el filtrado de filas.\n",
    "\n",
    "1. **Seleccionar columnas específicas:**"
   ]
  },
  {
   "cell_type": "code",
   "execution_count": 8,
   "metadata": {
    "azdata_cell_guid": "fb069758-1586-40e9-9f3c-aa27947d5434",
    "language": "python"
   },
   "outputs": [
    {
     "data": {
      "application/vnd.microsoft.datawrangler.viewer.v0+json": {
       "columns": [
        {
         "name": "index",
         "rawType": "int64",
         "type": "integer"
        },
        {
         "name": "Año",
         "rawType": "int64",
         "type": "integer"
        },
        {
         "name": "Nacimientos",
         "rawType": "int64",
         "type": "integer"
        }
       ],
       "conversionMethod": "pd.DataFrame",
       "ref": "daa64c3d-7106-4249-956d-b9e4fe059747",
       "rows": [
        [
         "0",
         "1950",
         "37248"
        ],
        [
         "1",
         "1951",
         "39239"
        ],
        [
         "2",
         "1952",
         "42461"
        ],
        [
         "3",
         "1953",
         "42817"
        ],
        [
         "4",
         "1954",
         "48157"
        ],
        [
         "5",
         "1955",
         "48903"
        ],
        [
         "6",
         "1956",
         "51481"
        ],
        [
         "7",
         "1957",
         "51749"
        ],
        [
         "8",
         "1958",
         "53899"
        ],
        [
         "9",
         "1959",
         "60414"
        ],
        [
         "10",
         "1960",
         "62794"
        ],
        [
         "11",
         "1961",
         "68377"
        ],
        [
         "12",
         "1962",
         "65349"
        ],
        [
         "13",
         "1963",
         "66776"
        ],
        [
         "14",
         "1964",
         "65433"
        ],
        [
         "15",
         "1965",
         "66836"
        ],
        [
         "16",
         "1966",
         "65300"
        ],
        [
         "17",
         "1967",
         "63979"
        ],
        [
         "18",
         "1968",
         "59213"
        ],
        [
         "19",
         "1969",
         "57984"
        ],
        [
         "20",
         "1970",
         "57757"
        ],
        [
         "21",
         "1971",
         "56338"
        ],
        [
         "22",
         "1972",
         "57438"
        ],
        [
         "23",
         "1973",
         "53455"
        ],
        [
         "24",
         "1974",
         "56769"
        ],
        [
         "25",
         "1975",
         "58140"
        ],
        [
         "26",
         "1976",
         "59965"
        ],
        [
         "27",
         "1977",
         "64188"
        ],
        [
         "28",
         "1978",
         "67658"
        ],
        [
         "29",
         "1979",
         "69246"
        ],
        [
         "30",
         "1980",
         "69989"
        ],
        [
         "31",
         "1981",
         "72255"
        ],
        [
         "32",
         "1982",
         "73111"
        ],
        [
         "33",
         "1983",
         "72944"
        ],
        [
         "34",
         "1984",
         "76878"
        ],
        [
         "35",
         "1985",
         "84337"
        ],
        [
         "36",
         "1986",
         "83194"
        ],
        [
         "37",
         "1987",
         "80326"
        ],
        [
         "38",
         "1988",
         "81376"
        ],
        [
         "39",
         "1989",
         "83460"
        ],
        [
         "40",
         "1990",
         "81939"
        ],
        [
         "41",
         "1991",
         "81110"
        ],
        [
         "42",
         "1992",
         "80164"
        ],
        [
         "43",
         "1993",
         "79714"
        ],
        [
         "44",
         "1994",
         "80391"
        ],
        [
         "45",
         "1995",
         "80306"
        ],
        [
         "46",
         "1996",
         "79203"
        ],
        [
         "47",
         "1997",
         "78018"
        ],
        [
         "48",
         "1998",
         "76982"
        ],
        [
         "49",
         "1999",
         "78526"
        ]
       ],
       "shape": {
        "columns": 2,
        "rows": 72
       }
      },
      "text/html": [
       "<div>\n",
       "<style scoped>\n",
       "    .dataframe tbody tr th:only-of-type {\n",
       "        vertical-align: middle;\n",
       "    }\n",
       "\n",
       "    .dataframe tbody tr th {\n",
       "        vertical-align: top;\n",
       "    }\n",
       "\n",
       "    .dataframe thead th {\n",
       "        text-align: right;\n",
       "    }\n",
       "</style>\n",
       "<table border=\"1\" class=\"dataframe\">\n",
       "  <thead>\n",
       "    <tr style=\"text-align: right;\">\n",
       "      <th></th>\n",
       "      <th>Año</th>\n",
       "      <th>Nacimientos</th>\n",
       "    </tr>\n",
       "  </thead>\n",
       "  <tbody>\n",
       "    <tr>\n",
       "      <th>0</th>\n",
       "      <td>1950</td>\n",
       "      <td>37248</td>\n",
       "    </tr>\n",
       "    <tr>\n",
       "      <th>1</th>\n",
       "      <td>1951</td>\n",
       "      <td>39239</td>\n",
       "    </tr>\n",
       "    <tr>\n",
       "      <th>2</th>\n",
       "      <td>1952</td>\n",
       "      <td>42461</td>\n",
       "    </tr>\n",
       "    <tr>\n",
       "      <th>3</th>\n",
       "      <td>1953</td>\n",
       "      <td>42817</td>\n",
       "    </tr>\n",
       "    <tr>\n",
       "      <th>4</th>\n",
       "      <td>1954</td>\n",
       "      <td>48157</td>\n",
       "    </tr>\n",
       "    <tr>\n",
       "      <th>...</th>\n",
       "      <td>...</td>\n",
       "      <td>...</td>\n",
       "    </tr>\n",
       "    <tr>\n",
       "      <th>67</th>\n",
       "      <td>2017</td>\n",
       "      <td>68811</td>\n",
       "    </tr>\n",
       "    <tr>\n",
       "      <th>68</th>\n",
       "      <td>2018</td>\n",
       "      <td>68449</td>\n",
       "    </tr>\n",
       "    <tr>\n",
       "      <th>69</th>\n",
       "      <td>2019</td>\n",
       "      <td>64274</td>\n",
       "    </tr>\n",
       "    <tr>\n",
       "      <th>70</th>\n",
       "      <td>2020</td>\n",
       "      <td>57848</td>\n",
       "    </tr>\n",
       "    <tr>\n",
       "      <th>71</th>\n",
       "      <td>2021</td>\n",
       "      <td>54288</td>\n",
       "    </tr>\n",
       "  </tbody>\n",
       "</table>\n",
       "<p>72 rows × 2 columns</p>\n",
       "</div>"
      ],
      "text/plain": [
       "     Año  Nacimientos\n",
       "0   1950        37248\n",
       "1   1951        39239\n",
       "2   1952        42461\n",
       "3   1953        42817\n",
       "4   1954        48157\n",
       "..   ...          ...\n",
       "67  2017        68811\n",
       "68  2018        68449\n",
       "69  2019        64274\n",
       "70  2020        57848\n",
       "71  2021        54288\n",
       "\n",
       "[72 rows x 2 columns]"
      ]
     },
     "execution_count": 8,
     "metadata": {},
     "output_type": "execute_result"
    }
   ],
   "source": [
    "# Seleccionar las columnas de Año y Nacimientos\n",
    "filtro = ['Año', 'Nacimientos']\n",
    "df[filtro]"
   ]
  },
  {
   "cell_type": "code",
   "execution_count": 9,
   "metadata": {
    "azdata_cell_guid": "f68e9b82-8833-4989-9d69-084aa139a494",
    "language": "python"
   },
   "outputs": [
    {
     "data": {
      "application/vnd.microsoft.datawrangler.viewer.v0+json": {
       "columns": [
        {
         "name": "index",
         "rawType": "int64",
         "type": "integer"
        },
        {
         "name": "Año",
         "rawType": "int64",
         "type": "integer"
        },
        {
         "name": "Nacimientos",
         "rawType": "int64",
         "type": "integer"
        },
        {
         "name": "Defunciones",
         "rawType": "int64",
         "type": "integer"
        }
       ],
       "conversionMethod": "pd.DataFrame",
       "ref": "63237ed6-ad81-462d-b956-8dbb62f87418",
       "rows": [
        [
         "60",
         "2010",
         "70922",
         "19077"
        ],
        [
         "61",
         "2011",
         "73459",
         "18801"
        ],
        [
         "62",
         "2012",
         "73326",
         "19200"
        ],
        [
         "63",
         "2013",
         "70550",
         "19646"
        ],
        [
         "64",
         "2014",
         "71793",
         "20560"
        ],
        [
         "65",
         "2015",
         "71819",
         "21038"
        ],
        [
         "66",
         "2016",
         "70004",
         "22601"
        ],
        [
         "67",
         "2017",
         "68811",
         "23246"
        ],
        [
         "68",
         "2018",
         "68449",
         "23806"
        ],
        [
         "69",
         "2019",
         "64274",
         "24292"
        ],
        [
         "70",
         "2020",
         "57848",
         "26205"
        ],
        [
         "71",
         "2021",
         "54288",
         "31093"
        ]
       ],
       "shape": {
        "columns": 3,
        "rows": 12
       }
      },
      "text/html": [
       "<div>\n",
       "<style scoped>\n",
       "    .dataframe tbody tr th:only-of-type {\n",
       "        vertical-align: middle;\n",
       "    }\n",
       "\n",
       "    .dataframe tbody tr th {\n",
       "        vertical-align: top;\n",
       "    }\n",
       "\n",
       "    .dataframe thead th {\n",
       "        text-align: right;\n",
       "    }\n",
       "</style>\n",
       "<table border=\"1\" class=\"dataframe\">\n",
       "  <thead>\n",
       "    <tr style=\"text-align: right;\">\n",
       "      <th></th>\n",
       "      <th>Año</th>\n",
       "      <th>Nacimientos</th>\n",
       "      <th>Defunciones</th>\n",
       "    </tr>\n",
       "  </thead>\n",
       "  <tbody>\n",
       "    <tr>\n",
       "      <th>60</th>\n",
       "      <td>2010</td>\n",
       "      <td>70922</td>\n",
       "      <td>19077</td>\n",
       "    </tr>\n",
       "    <tr>\n",
       "      <th>61</th>\n",
       "      <td>2011</td>\n",
       "      <td>73459</td>\n",
       "      <td>18801</td>\n",
       "    </tr>\n",
       "    <tr>\n",
       "      <th>62</th>\n",
       "      <td>2012</td>\n",
       "      <td>73326</td>\n",
       "      <td>19200</td>\n",
       "    </tr>\n",
       "    <tr>\n",
       "      <th>63</th>\n",
       "      <td>2013</td>\n",
       "      <td>70550</td>\n",
       "      <td>19646</td>\n",
       "    </tr>\n",
       "    <tr>\n",
       "      <th>64</th>\n",
       "      <td>2014</td>\n",
       "      <td>71793</td>\n",
       "      <td>20560</td>\n",
       "    </tr>\n",
       "    <tr>\n",
       "      <th>65</th>\n",
       "      <td>2015</td>\n",
       "      <td>71819</td>\n",
       "      <td>21038</td>\n",
       "    </tr>\n",
       "    <tr>\n",
       "      <th>66</th>\n",
       "      <td>2016</td>\n",
       "      <td>70004</td>\n",
       "      <td>22601</td>\n",
       "    </tr>\n",
       "    <tr>\n",
       "      <th>67</th>\n",
       "      <td>2017</td>\n",
       "      <td>68811</td>\n",
       "      <td>23246</td>\n",
       "    </tr>\n",
       "    <tr>\n",
       "      <th>68</th>\n",
       "      <td>2018</td>\n",
       "      <td>68449</td>\n",
       "      <td>23806</td>\n",
       "    </tr>\n",
       "    <tr>\n",
       "      <th>69</th>\n",
       "      <td>2019</td>\n",
       "      <td>64274</td>\n",
       "      <td>24292</td>\n",
       "    </tr>\n",
       "    <tr>\n",
       "      <th>70</th>\n",
       "      <td>2020</td>\n",
       "      <td>57848</td>\n",
       "      <td>26205</td>\n",
       "    </tr>\n",
       "    <tr>\n",
       "      <th>71</th>\n",
       "      <td>2021</td>\n",
       "      <td>54288</td>\n",
       "      <td>31093</td>\n",
       "    </tr>\n",
       "  </tbody>\n",
       "</table>\n",
       "</div>"
      ],
      "text/plain": [
       "     Año  Nacimientos  Defunciones\n",
       "60  2010        70922        19077\n",
       "61  2011        73459        18801\n",
       "62  2012        73326        19200\n",
       "63  2013        70550        19646\n",
       "64  2014        71793        20560\n",
       "65  2015        71819        21038\n",
       "66  2016        70004        22601\n",
       "67  2017        68811        23246\n",
       "68  2018        68449        23806\n",
       "69  2019        64274        24292\n",
       "70  2020        57848        26205\n",
       "71  2021        54288        31093"
      ]
     },
     "execution_count": 9,
     "metadata": {},
     "output_type": "execute_result"
    }
   ],
   "source": [
    "# Filtrar datos desde el año 2010\n",
    "#df_filtrado = df[df['Año']>=2010]\n",
    "df_filtrado = df.loc[df['Año'] >= 2010] \n",
    "df_filtrado"
   ]
  },
  {
   "attachments": {},
   "cell_type": "markdown",
   "metadata": {
    "azdata_cell_guid": "66f350c5-ac44-4dc5-8d74-a35dd58e69f4",
    "language": "python"
   },
   "source": [
    "### **3\\. Operaciones Básicas**\n",
    "\n",
    "**Objetivo:** Realizar cálculos básicos utilizando las columnas del DataFrame.\n",
    "\n",
    "1. **Calcular el total de nacimientos y defunciones:**"
   ]
  },
  {
   "cell_type": "code",
   "execution_count": 10,
   "metadata": {
    "azdata_cell_guid": "84eaf664-a9de-4208-b6b4-f884befd13b2",
    "language": "python"
   },
   "outputs": [
    {
     "name": "stdout",
     "output_type": "stream",
     "text": [
      "total nacimientos: 4846207, total defunciones: 975501\n"
     ]
    }
   ],
   "source": [
    "# total_nacimientos\n",
    "total_n = df['Nacimientos'].sum()\n",
    "# total_defunciones \n",
    "total_d = df['Defunciones'].sum()\n",
    "\n",
    "print(f'total nacimientos: {total_n}, total defunciones: {total_d}')"
   ]
  },
  {
   "attachments": {},
   "cell_type": "markdown",
   "metadata": {
    "azdata_cell_guid": "7ea8bb49-00e1-49c7-8f59-bca185c6af5a",
    "language": "python"
   },
   "source": [
    "**2\\. Añadir una nueva columna con el saldo poblacional :**"
   ]
  },
  {
   "cell_type": "code",
   "execution_count": 11,
   "metadata": {
    "azdata_cell_guid": "b133d04a-28cb-4607-b6f5-821b2e864cb6",
    "language": "python"
   },
   "outputs": [
    {
     "data": {
      "application/vnd.microsoft.datawrangler.viewer.v0+json": {
       "columns": [
        {
         "name": "index",
         "rawType": "int64",
         "type": "integer"
        },
        {
         "name": "Año",
         "rawType": "int64",
         "type": "integer"
        },
        {
         "name": "Nacimientos",
         "rawType": "int64",
         "type": "integer"
        },
        {
         "name": "Defunciones",
         "rawType": "int64",
         "type": "integer"
        },
        {
         "name": "saldo_pobla",
         "rawType": "int64",
         "type": "integer"
        }
       ],
       "conversionMethod": "pd.DataFrame",
       "ref": "0af9fc13-0e14-4612-b301-bcbcb53f19e0",
       "rows": [
        [
         "0",
         "1950",
         "37248",
         "9769",
         "27479"
        ],
        [
         "1",
         "1951",
         "39239",
         "9631",
         "29608"
        ],
        [
         "2",
         "1952",
         "42461",
         "9902",
         "32559"
        ],
        [
         "3",
         "1953",
         "42817",
         "10312",
         "32505"
        ],
        [
         "4",
         "1954",
         "48157",
         "9713",
         "38444"
        ],
        [
         "5",
         "1955",
         "48903",
         "9998",
         "38905"
        ],
        [
         "6",
         "1956",
         "51481",
         "9518",
         "41963"
        ],
        [
         "7",
         "1957",
         "51749",
         "10471",
         "41278"
        ],
        [
         "8",
         "1958",
         "53899",
         "9692",
         "44207"
        ],
        [
         "9",
         "1959",
         "60414",
         "10176",
         "50238"
        ],
        [
         "10",
         "1960",
         "62794",
         "10063",
         "52731"
        ],
        [
         "11",
         "1961",
         "68377",
         "9726",
         "58651"
        ],
        [
         "12",
         "1962",
         "65349",
         "10861",
         "54488"
        ],
        [
         "13",
         "1963",
         "66776",
         "11376",
         "55400"
        ],
        [
         "14",
         "1964",
         "65433",
         "12269",
         "53164"
        ],
        [
         "15",
         "1965",
         "66836",
         "11649",
         "55187"
        ],
        [
         "16",
         "1966",
         "65300",
         "11379",
         "53921"
        ],
        [
         "17",
         "1967",
         "63979",
         "11214",
         "52765"
        ],
        [
         "18",
         "1968",
         "59213",
         "10653",
         "48560"
        ],
        [
         "19",
         "1969",
         "57984",
         "11599",
         "46385"
        ],
        [
         "20",
         "1970",
         "57757",
         "11504",
         "46253"
        ],
        [
         "21",
         "1971",
         "56338",
         "10575",
         "45763"
        ],
        [
         "22",
         "1972",
         "57438",
         "10855",
         "46583"
        ],
        [
         "23",
         "1973",
         "53455",
         "9702",
         "43753"
        ],
        [
         "24",
         "1974",
         "56769",
         "9512",
         "47257"
        ],
        [
         "25",
         "1975",
         "58140",
         "9615",
         "48525"
        ],
        [
         "26",
         "1976",
         "59965",
         "9356",
         "50609"
        ],
        [
         "27",
         "1977",
         "64188",
         "8907",
         "55281"
        ],
        [
         "28",
         "1978",
         "67658",
         "8596",
         "59062"
        ],
        [
         "29",
         "1979",
         "69246",
         "9114",
         "60132"
        ],
        [
         "30",
         "1980",
         "69989",
         "9232",
         "60757"
        ],
        [
         "31",
         "1981",
         "72255",
         "8941",
         "63314"
        ],
        [
         "32",
         "1982",
         "73111",
         "9137",
         "63974"
        ],
        [
         "33",
         "1983",
         "72944",
         "9392",
         "63552"
        ],
        [
         "34",
         "1984",
         "76878",
         "9893",
         "66985"
        ],
        [
         "35",
         "1985",
         "84337",
         "10465",
         "73872"
        ],
        [
         "36",
         "1986",
         "83194",
         "10449",
         "72745"
        ],
        [
         "37",
         "1987",
         "80326",
         "10687",
         "69639"
        ],
        [
         "38",
         "1988",
         "81376",
         "10944",
         "70432"
        ],
        [
         "39",
         "1989",
         "83460",
         "11273",
         "72187"
        ],
        [
         "40",
         "1990",
         "81939",
         "11359",
         "70580"
        ],
        [
         "41",
         "1991",
         "81110",
         "11792",
         "69318"
        ],
        [
         "42",
         "1992",
         "80164",
         "12253",
         "67911"
        ],
        [
         "43",
         "1993",
         "79714",
         "12543",
         "67171"
        ],
        [
         "44",
         "1994",
         "80391",
         "13313",
         "67078"
        ],
        [
         "45",
         "1995",
         "80306",
         "14061",
         "66245"
        ],
        [
         "46",
         "1996",
         "79203",
         "14613",
         "64590"
        ],
        [
         "47",
         "1997",
         "78018",
         "14260",
         "63758"
        ],
        [
         "48",
         "1998",
         "76982",
         "14708",
         "62274"
        ],
        [
         "49",
         "1999",
         "78526",
         "15052",
         "63474"
        ]
       ],
       "shape": {
        "columns": 4,
        "rows": 72
       }
      },
      "text/html": [
       "<div>\n",
       "<style scoped>\n",
       "    .dataframe tbody tr th:only-of-type {\n",
       "        vertical-align: middle;\n",
       "    }\n",
       "\n",
       "    .dataframe tbody tr th {\n",
       "        vertical-align: top;\n",
       "    }\n",
       "\n",
       "    .dataframe thead th {\n",
       "        text-align: right;\n",
       "    }\n",
       "</style>\n",
       "<table border=\"1\" class=\"dataframe\">\n",
       "  <thead>\n",
       "    <tr style=\"text-align: right;\">\n",
       "      <th></th>\n",
       "      <th>Año</th>\n",
       "      <th>Nacimientos</th>\n",
       "      <th>Defunciones</th>\n",
       "      <th>saldo_pobla</th>\n",
       "    </tr>\n",
       "  </thead>\n",
       "  <tbody>\n",
       "    <tr>\n",
       "      <th>0</th>\n",
       "      <td>1950</td>\n",
       "      <td>37248</td>\n",
       "      <td>9769</td>\n",
       "      <td>27479</td>\n",
       "    </tr>\n",
       "    <tr>\n",
       "      <th>1</th>\n",
       "      <td>1951</td>\n",
       "      <td>39239</td>\n",
       "      <td>9631</td>\n",
       "      <td>29608</td>\n",
       "    </tr>\n",
       "    <tr>\n",
       "      <th>2</th>\n",
       "      <td>1952</td>\n",
       "      <td>42461</td>\n",
       "      <td>9902</td>\n",
       "      <td>32559</td>\n",
       "    </tr>\n",
       "    <tr>\n",
       "      <th>3</th>\n",
       "      <td>1953</td>\n",
       "      <td>42817</td>\n",
       "      <td>10312</td>\n",
       "      <td>32505</td>\n",
       "    </tr>\n",
       "    <tr>\n",
       "      <th>4</th>\n",
       "      <td>1954</td>\n",
       "      <td>48157</td>\n",
       "      <td>9713</td>\n",
       "      <td>38444</td>\n",
       "    </tr>\n",
       "    <tr>\n",
       "      <th>...</th>\n",
       "      <td>...</td>\n",
       "      <td>...</td>\n",
       "      <td>...</td>\n",
       "      <td>...</td>\n",
       "    </tr>\n",
       "    <tr>\n",
       "      <th>67</th>\n",
       "      <td>2017</td>\n",
       "      <td>68811</td>\n",
       "      <td>23246</td>\n",
       "      <td>45565</td>\n",
       "    </tr>\n",
       "    <tr>\n",
       "      <th>68</th>\n",
       "      <td>2018</td>\n",
       "      <td>68449</td>\n",
       "      <td>23806</td>\n",
       "      <td>44643</td>\n",
       "    </tr>\n",
       "    <tr>\n",
       "      <th>69</th>\n",
       "      <td>2019</td>\n",
       "      <td>64274</td>\n",
       "      <td>24292</td>\n",
       "      <td>39982</td>\n",
       "    </tr>\n",
       "    <tr>\n",
       "      <th>70</th>\n",
       "      <td>2020</td>\n",
       "      <td>57848</td>\n",
       "      <td>26205</td>\n",
       "      <td>31643</td>\n",
       "    </tr>\n",
       "    <tr>\n",
       "      <th>71</th>\n",
       "      <td>2021</td>\n",
       "      <td>54288</td>\n",
       "      <td>31093</td>\n",
       "      <td>23195</td>\n",
       "    </tr>\n",
       "  </tbody>\n",
       "</table>\n",
       "<p>72 rows × 4 columns</p>\n",
       "</div>"
      ],
      "text/plain": [
       "     Año  Nacimientos  Defunciones  saldo_pobla\n",
       "0   1950        37248         9769        27479\n",
       "1   1951        39239         9631        29608\n",
       "2   1952        42461         9902        32559\n",
       "3   1953        42817        10312        32505\n",
       "4   1954        48157         9713        38444\n",
       "..   ...          ...          ...          ...\n",
       "67  2017        68811        23246        45565\n",
       "68  2018        68449        23806        44643\n",
       "69  2019        64274        24292        39982\n",
       "70  2020        57848        26205        31643\n",
       "71  2021        54288        31093        23195\n",
       "\n",
       "[72 rows x 4 columns]"
      ]
     },
     "execution_count": 11,
     "metadata": {},
     "output_type": "execute_result"
    }
   ],
   "source": [
    "#Saldo Poblacional\n",
    "df['saldo_pobla'] = df['Nacimientos'] - df[\"Defunciones\"]\n",
    "df"
   ]
  },
  {
   "attachments": {},
   "cell_type": "markdown",
   "metadata": {
    "azdata_cell_guid": "fa04ea9c-f241-491d-8025-a257a4ca5c61",
    "language": "python"
   },
   "source": [
    "### **Creación de Gráficos con Matplotlib**\n",
    "\n",
    "**Objetivo:** Introducir la visualización básica de datos con Matplotlib.\n",
    "\n",
    "1. **Gráfico de líneas: Nacimientos por año**"
   ]
  },
  {
   "cell_type": "code",
   "execution_count": 12,
   "metadata": {
    "azdata_cell_guid": "f241e0f8-b3bc-4839-b95d-a81084a71c9b",
    "language": "python"
   },
   "outputs": [
    {
     "data": {
      "application/vnd.microsoft.datawrangler.viewer.v0+json": {
       "columns": [
        {
         "name": "index",
         "rawType": "int64",
         "type": "integer"
        },
        {
         "name": "Año",
         "rawType": "int64",
         "type": "integer"
        },
        {
         "name": "Nacimientos",
         "rawType": "int64",
         "type": "integer"
        },
        {
         "name": "Defunciones",
         "rawType": "int64",
         "type": "integer"
        },
        {
         "name": "saldo_pobla",
         "rawType": "int64",
         "type": "integer"
        }
       ],
       "conversionMethod": "pd.DataFrame",
       "ref": "60b096e9-7745-4eb0-bcbe-2fba08d375d5",
       "rows": [
        [
         "0",
         "1950",
         "37248",
         "9769",
         "27479"
        ]
       ],
       "shape": {
        "columns": 4,
        "rows": 1
       }
      },
      "text/html": [
       "<div>\n",
       "<style scoped>\n",
       "    .dataframe tbody tr th:only-of-type {\n",
       "        vertical-align: middle;\n",
       "    }\n",
       "\n",
       "    .dataframe tbody tr th {\n",
       "        vertical-align: top;\n",
       "    }\n",
       "\n",
       "    .dataframe thead th {\n",
       "        text-align: right;\n",
       "    }\n",
       "</style>\n",
       "<table border=\"1\" class=\"dataframe\">\n",
       "  <thead>\n",
       "    <tr style=\"text-align: right;\">\n",
       "      <th></th>\n",
       "      <th>Año</th>\n",
       "      <th>Nacimientos</th>\n",
       "      <th>Defunciones</th>\n",
       "      <th>saldo_pobla</th>\n",
       "    </tr>\n",
       "  </thead>\n",
       "  <tbody>\n",
       "    <tr>\n",
       "      <th>0</th>\n",
       "      <td>1950</td>\n",
       "      <td>37248</td>\n",
       "      <td>9769</td>\n",
       "      <td>27479</td>\n",
       "    </tr>\n",
       "  </tbody>\n",
       "</table>\n",
       "</div>"
      ],
      "text/plain": [
       "    Año  Nacimientos  Defunciones  saldo_pobla\n",
       "0  1950        37248         9769        27479"
      ]
     },
     "execution_count": 12,
     "metadata": {},
     "output_type": "execute_result"
    }
   ],
   "source": [
    "import matplotlib.pyplot as plt\n",
    "\n",
    "\n",
    "anio_inicial = int(input('Ingrese el año inicial: '))\n",
    "anio_final = int(input('Ingrese el año Final: '))\n",
    "\n",
    "\n",
    "#df >= anio_inicial and <= anio_final\n",
    "\n",
    "                                              #and\n",
    "df_rango_anios = df[((df['Año']>= anio_inicial) & (df['Año'] <= anio_final))]\n",
    "\n",
    "\n",
    "df_rango_anios"
   ]
  },
  {
   "cell_type": "markdown",
   "metadata": {},
   "source": [
    "## Filtrar un año para grafico ##"
   ]
  },
  {
   "cell_type": "code",
   "execution_count": 13,
   "metadata": {},
   "outputs": [
    {
     "data": {
      "text/plain": [
       "<function matplotlib.pyplot.show(close=None, block=None)>"
      ]
     },
     "execution_count": 13,
     "metadata": {},
     "output_type": "execute_result"
    },
    {
     "data": {
      "image/png": "[encoded data removed]",
      "text/plain": [
       "<Figure size 700x400 with 1 Axes>"
      ]
     },
     "metadata": {},
     "output_type": "display_data"
    }
   ],
   "source": [
    "import matplotlib.pyplot as plt\n",
    "\n",
    "\n",
    "anio_filtrar = int(input('Ingrese el año a Graficar: '))\n",
    "\n",
    "\n",
    "#df >= anio_inicial and <= anio_final\n",
    "# and\n",
    "df_rango_anios = df[df['Año'] == anio_filtrar ]\n",
    "\n",
    "#values regresa el valor de la columna el numero del registro.\n",
    "plt.figure(figsize=(7,4))\n",
    "plt.bar(['Nacimientos','Defunciones'], [df_rango_anios['Nacimientos'].values[0],\n",
    "df_rango_anios['Defunciones'].values[0]],color=['Cyan','Green'])\n",
    "\n",
    "\n",
    "plt.title(f\"Nacimientos y Defunciones en {df_rango_anios['Año'].values[0]}\")\n",
    "plt.ylabel('Cantidad')\n",
    "plt.show"
   ]
  },
  {
   "attachments": {},
   "cell_type": "markdown",
   "metadata": {
    "azdata_cell_guid": "9abef0c2-f7a1-43a3-9324-965767b3b091"
   },
   "source": [
    "### **Gráfico de barras: Comparación de nacimientos y defunciones**"
   ]
  },
  {
   "cell_type": "code",
   "execution_count": 14,
   "metadata": {
    "azdata_cell_guid": "aaa7acdb-4aaa-486f-b087-d21aea92dc24",
    "language": "python"
   },
   "outputs": [
    {
     "data": {
      "text/plain": [
       "<function matplotlib.pyplot.show(close=None, block=None)>"
      ]
     },
     "execution_count": 14,
     "metadata": {},
     "output_type": "execute_result"
    },
    {
     "data": {
      "image/png": "[encoded data removed]",
      "text/plain": [
       "<Figure size 1700x700 with 1 Axes>"
      ]
     },
     "metadata": {},
     "output_type": "display_data"
    }
   ],
   "source": [
    "# Crear gráfico de barras\n",
    "\n",
    "import matplotlib.pyplot as plt\n",
    "\n",
    "plt.figure(figsize=(17,7),label='Nacimientos')\n",
    "plt.bar(df['Año'],df['Nacimientos'],label='Nacimientos',color=['Green'])\n",
    "plt.bar(df['Año'],df['Defunciones'],label='Defunciones',color=['Red'])\n",
    "\n",
    "plt.xlabel('Años')\n",
    "plt.ylabel('Cantidad')\n",
    "plt.legend()\n",
    "plt.show\n"
   ]
  },
  {
   "cell_type": "code",
   "execution_count": 15,
   "metadata": {
    "azdata_cell_guid": "636671bb-ca32-44d5-8887-2251da3dece7",
    "language": "python"
   },
   "outputs": [
    {
     "data": {
      "application/vnd.microsoft.datawrangler.viewer.v0+json": {
       "columns": [
        {
         "name": "index",
         "rawType": "int64",
         "type": "integer"
        },
        {
         "name": "Año",
         "rawType": "int64",
         "type": "integer"
        },
        {
         "name": "Nacimientos",
         "rawType": "int64",
         "type": "integer"
        },
        {
         "name": "Defunciones",
         "rawType": "int64",
         "type": "integer"
        },
        {
         "name": "saldo_pobla",
         "rawType": "int64",
         "type": "integer"
        }
       ],
       "conversionMethod": "pd.DataFrame",
       "ref": "e264e5c1-9af4-40bc-a4f0-042d85ced02e",
       "rows": [
        [
         "71",
         "2021",
         "54288",
         "31093",
         "23195"
        ]
       ],
       "shape": {
        "columns": 4,
        "rows": 1
       }
      },
      "text/html": [
       "<div>\n",
       "<style scoped>\n",
       "    .dataframe tbody tr th:only-of-type {\n",
       "        vertical-align: middle;\n",
       "    }\n",
       "\n",
       "    .dataframe tbody tr th {\n",
       "        vertical-align: top;\n",
       "    }\n",
       "\n",
       "    .dataframe thead th {\n",
       "        text-align: right;\n",
       "    }\n",
       "</style>\n",
       "<table border=\"1\" class=\"dataframe\">\n",
       "  <thead>\n",
       "    <tr style=\"text-align: right;\">\n",
       "      <th></th>\n",
       "      <th>Año</th>\n",
       "      <th>Nacimientos</th>\n",
       "      <th>Defunciones</th>\n",
       "      <th>saldo_pobla</th>\n",
       "    </tr>\n",
       "  </thead>\n",
       "  <tbody>\n",
       "    <tr>\n",
       "      <th>71</th>\n",
       "      <td>2021</td>\n",
       "      <td>54288</td>\n",
       "      <td>31093</td>\n",
       "      <td>23195</td>\n",
       "    </tr>\n",
       "  </tbody>\n",
       "</table>\n",
       "</div>"
      ],
      "text/plain": [
       "     Año  Nacimientos  Defunciones  saldo_pobla\n",
       "71  2021        54288        31093        23195"
      ]
     },
     "execution_count": 15,
     "metadata": {},
     "output_type": "execute_result"
    }
   ],
   "source": [
    "# Filtrar datos del último año\n",
    "ultimo_anio = df[df['Año'] == df['Año'].max()]\n",
    "ultimo_anio\n",
    "# Crear gráfico de barras\n"
   ]
  },
  {
   "attachments": {},
   "cell_type": "markdown",
   "metadata": {
    "azdata_cell_guid": "6d3a1694-08a7-4ce8-8b45-187a0ded4e9d",
    "language": "python"
   },
   "source": [
    "### **<mark>TAREA SEMANA 12</mark>**\n",
    "\n",
    "**Objetivo:** Combinar la manipulación de datos con visualización.\n",
    "\n",
    "#### **Enunciado:**\n",
    "\n",
    "1. Filtra los datos desde el año 2000.\n",
    "2. Calcula el promedio de nacimientos y defunciones desde esa fecha.\n",
    "3. Crea un gráfico de líneas que compare nacimientos y defunciones desde el año 2000.\n",
    "\n",
    "#### **Solución:**\n",
    "\n",
    "1. **Filtrar datos desde el año 2000:**"
   ]
  },
  {
   "cell_type": "code",
   "execution_count": null,
   "metadata": {
    "azdata_cell_guid": "ed2f20bc-ec2b-4d4c-9ca9-195cfbcf8fcb",
    "language": "python"
   },
   "outputs": [
    {
     "data": {
      "application/vnd.microsoft.datawrangler.viewer.v0+json": {
       "columns": [
        {
         "name": "index",
         "rawType": "int64",
         "type": "integer"
        },
        {
         "name": "Año",
         "rawType": "int64",
         "type": "integer"
        },
        {
         "name": "Nacimientos",
         "rawType": "int64",
         "type": "integer"
        },
        {
         "name": "Defunciones",
         "rawType": "int64",
         "type": "integer"
        },
        {
         "name": "saldo_pobla",
         "rawType": "int64",
         "type": "integer"
        }
       ],
       "conversionMethod": "pd.DataFrame",
       "ref": "fa1a5a97-e0c8-4827-80d4-8e73909c5152",
       "rows": [
        [
         "50",
         "2000",
         "78178",
         "14944",
         "63234"
        ],
        [
         "51",
         "2001",
         "76401",
         "15609",
         "60792"
        ],
        [
         "52",
         "2002",
         "71144",
         "15004",
         "56140"
        ],
        [
         "53",
         "2003",
         "72938",
         "15800",
         "57138"
        ],
        [
         "54",
         "2004",
         "72247",
         "15949",
         "56298"
        ]
       ],
       "shape": {
        "columns": 4,
        "rows": 5
       }
      },
      "text/html": [
       "<div>\n",
       "<style scoped>\n",
       "    .dataframe tbody tr th:only-of-type {\n",
       "        vertical-align: middle;\n",
       "    }\n",
       "\n",
       "    .dataframe tbody tr th {\n",
       "        vertical-align: top;\n",
       "    }\n",
       "\n",
       "    .dataframe thead th {\n",
       "        text-align: right;\n",
       "    }\n",
       "</style>\n",
       "<table border=\"1\" class=\"dataframe\">\n",
       "  <thead>\n",
       "    <tr style=\"text-align: right;\">\n",
       "      <th></th>\n",
       "      <th>Año</th>\n",
       "      <th>Nacimientos</th>\n",
       "      <th>Defunciones</th>\n",
       "      <th>saldo_pobla</th>\n",
       "    </tr>\n",
       "  </thead>\n",
       "  <tbody>\n",
       "    <tr>\n",
       "      <th>50</th>\n",
       "      <td>2000</td>\n",
       "      <td>78178</td>\n",
       "      <td>14944</td>\n",
       "      <td>63234</td>\n",
       "    </tr>\n",
       "    <tr>\n",
       "      <th>51</th>\n",
       "      <td>2001</td>\n",
       "      <td>76401</td>\n",
       "      <td>15609</td>\n",
       "      <td>60792</td>\n",
       "    </tr>\n",
       "    <tr>\n",
       "      <th>52</th>\n",
       "      <td>2002</td>\n",
       "      <td>71144</td>\n",
       "      <td>15004</td>\n",
       "      <td>56140</td>\n",
       "    </tr>\n",
       "    <tr>\n",
       "      <th>53</th>\n",
       "      <td>2003</td>\n",
       "      <td>72938</td>\n",
       "      <td>15800</td>\n",
       "      <td>57138</td>\n",
       "    </tr>\n",
       "    <tr>\n",
       "      <th>54</th>\n",
       "      <td>2004</td>\n",
       "      <td>72247</td>\n",
       "      <td>15949</td>\n",
       "      <td>56298</td>\n",
       "    </tr>\n",
       "  </tbody>\n",
       "</table>\n",
       "</div>"
      ],
      "text/plain": [
       "     Año  Nacimientos  Defunciones  saldo_pobla\n",
       "50  2000        78178        14944        63234\n",
       "51  2001        76401        15609        60792\n",
       "52  2002        71144        15004        56140\n",
       "53  2003        72938        15800        57138\n",
       "54  2004        72247        15949        56298"
      ]
     },
     "execution_count": 20,
     "metadata": {},
     "output_type": "execute_result"
    }
   ],
   "source": [
    "#Filtrado\n",
    "\n",
    "df_filtrado = df[df['Año'] >=2000]\n",
    "df_filtrado.head()"
   ]
  },
  {
   "attachments": {},
   "cell_type": "markdown",
   "metadata": {
    "azdata_cell_guid": "95365cbf-58c5-470e-b68a-ec42df512b7e",
    "language": "python"
   },
   "source": [
    "2. **Calcular promedios:**"
   ]
  },
  {
   "cell_type": "code",
   "execution_count": null,
   "metadata": {
    "azdata_cell_guid": "21145e66-345d-4dcc-9314-594788bdf37e",
    "language": "python"
   },
   "outputs": [
    {
     "ename": "SyntaxError",
     "evalue": "closing parenthesis ']' does not match opening parenthesis '(' (937863608.py, line 3)",
     "output_type": "error",
     "traceback": [
      "\u001b[1;36m  Cell \u001b[1;32mIn[25], line 3\u001b[1;36m\u001b[0m\n\u001b[1;33m    df_filtrado = df[(df['Año'] >=2000] & [df['Año'] >=2000])\u001b[0m\n\u001b[1;37m                                      ^\u001b[0m\n\u001b[1;31mSyntaxError\u001b[0m\u001b[1;31m:\u001b[0m closing parenthesis ']' does not match opening parenthesis '('\n"
     ]
    }
   ],
   "source": [
    "#promedios fallecidos y nacimientos\n",
    "\n",
    "df_filtrado = df[df['Año'] >= 2020]\n",
    "promedio_nacimientos = df_filtrado['Nacimientos'].mean()\n",
    "promedio_defunciones = df_filtrado['Defunciones'].mean()\n",
    "\n",
    "\n",
    "print(f'El promedio de nacimientos a partir del 2010 es de {promedio_nacimientos:.2f}')\n",
    "print(f'El promedio de defunciones a partir del 2010 es de {promedio_defunciones:.2f}')"
   ]
  },
  {
   "attachments": {},
   "cell_type": "markdown",
   "metadata": {
    "azdata_cell_guid": "9e0e6a22-7673-448d-b132-6d8eb32ee6f2",
    "language": "python"
   },
   "source": [
    "3. **Graficar:**"
   ]
  },
  {
   "cell_type": "code",
   "execution_count": 34,
   "metadata": {
    "azdata_cell_guid": "3889febc-2c94-43b8-89ca-f48397a1ee4f",
    "language": "python"
   },
   "outputs": [
    {
     "name": "stderr",
     "output_type": "stream",
     "text": [
      "C:\\Users\\Nibelungen\\AppData\\Local\\Temp\\ipykernel_12152\\4099419784.py:11: MatplotlibDeprecationWarning: Passing the explode parameter of pie() positionally is deprecated since Matplotlib 3.9; the parameter will become keyword-only in 3.11.\n",
      "  plt.pie(data,[0,0], mr_x, color, autopct='%1.1f%%', startangle=90)\n"
     ]
    },
    {
     "data": {
      "text/plain": [
       "<function matplotlib.pyplot.show(close=None, block=None)>"
      ]
     },
     "execution_count": 34,
     "metadata": {},
     "output_type": "execute_result"
    },
    {
     "data": {
      "image/png": "[encoded data removed]",
      "text/plain": [
       "<Figure size 640x480 with 1 Axes>"
      ]
     },
     "metadata": {},
     "output_type": "display_data"
    }
   ],
   "source": [
    "#graficar en tipo pie\n",
    "\n",
    "df_filtrado = df[df['Año'] >= 2020]\n",
    "promedio_nacimientos = df_filtrado['Nacimientos'].mean()\n",
    "promedio_defunciones = df_filtrado['Defunciones'].mean()\n",
    "\n",
    "mr_x = ['Nacimientos', 'Defunciones'] #etiquetas\n",
    "data = [promedio_nacimientos,promedio_defunciones]\n",
    "color = ['skyblue', 'red']\n",
    "\n",
    "plt.pie(data,[0,0], mr_x, color, autopct='%1.1f%%', startangle=90)\n",
    "plt.title('Promedios de Defunciones y Nacimientos 2020')\n",
    "plt.show\n"
   ]
  }
 ],
 "metadata": {
  "kernelspec": {
   "display_name": "Python 3",
   "language": "python",
   "name": "python3"
  },
  "language_info": {
   "codemirror_mode": {
    "name": "ipython",
    "version": 3
   },
   "file_extension": ".py",
   "mimetype": "text/x-python",
   "name": "python",
   "nbconvert_exporter": "python",
   "pygments_lexer": "ipython3",
   "version": "3.13.1"
  }
 },
 "nbformat": 4,
 "nbformat_minor": 2
}
