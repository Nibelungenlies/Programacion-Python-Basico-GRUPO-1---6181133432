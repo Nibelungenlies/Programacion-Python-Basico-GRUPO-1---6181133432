{
 "cells": [
  {
   "cell_type": "markdown",
   "metadata": {},
   "source": [
    "\n",
    "# Ejercicio final: Extraer información de un archivo JSON usando expresiones regulares (regex)\n",
    "\n",
    "\n",
    "## Objetivo:\n",
    "\n",
    "El objetivo de este ejercicio es practicar la utilización de expresiones regulares (regex) para extraer información específica de un archivo JSON. El ejercicio se enfocará en la lectura y análisis de un archivo JSON que contiene información sobre clientes.\n",
    "\n",
    "## Descripción:\n",
    "\n",
    "### Obtener el archivo JSON:\n",
    "Lea archivo JSON 'clientes.json' que contiene la información sobre clientes. El archivo debe tener una estructura similar a la siguiente:"
   ]
  },
  {
   "cell_type": "code",
   "execution_count": 5,
   "metadata": {},
   "outputs": [
    {
     "data": {
      "text/plain": [
       "{'clientes': [{'nombre': 'Juan Pérez',\n",
       "   'direccion': 'Calle Mayor 123',\n",
       "   'ciudad': 'San José',\n",
       "   'telefono': '+506 2222-3333'},\n",
       "  {'nombre': 'María Gómez',\n",
       "   'direccion': 'Avenida Central 456',\n",
       "   'ciudad': 'Alajuela',\n",
       "   'telefono': '+506 8888-4444'},\n",
       "  {'nombre': 'Pedro Ramírez',\n",
       "   'direccion': 'Barrio Escalante 789',\n",
       "   'ciudad': 'Heredia',\n",
       "   'telefono': '+506 5555-6666'},\n",
       "  {'nombre': 'Ana Castro',\n",
       "   'direccion': 'Avenida 10 Calle 5',\n",
       "   'ciudad': 'Cartago',\n",
       "   'telefono': '+506 3333-4444'},\n",
       "  {'nombre': 'Carlos Jiménez',\n",
       "   'direccion': 'Calle Principal 12',\n",
       "   'ciudad': 'Liberia',\n",
       "   'telefono': '+506 6666-7777'},\n",
       "  {'nombre': 'Diana Solano',\n",
       "   'direccion': 'Barrio La Unión 78',\n",
       "   'ciudad': 'Puntarenas',\n",
       "   'telefono': '+506 9999-8888'}]}"
      ]
     },
     "execution_count": 5,
     "metadata": {},
     "output_type": "execute_result"
    }
   ],
   "source": [
    "{\n",
    "  \"clientes\": [\n",
    "    {\n",
    "      \"nombre\": \"Juan Pérez\",\n",
    "      \"direccion\": \"Calle Mayor 123\",\n",
    "      \"ciudad\": \"San José\",\n",
    "      \"telefono\": \"+506 2222-3333\"\n",
    "    },\n",
    "    {\n",
    "      \"nombre\": \"María Gómez\",\n",
    "      \"direccion\": \"Avenida Central 456\",\n",
    "      \"ciudad\": \"Alajuela\",\n",
    "      \"telefono\": \"+506 8888-4444\"\n",
    "    },\n",
    "    {\n",
    "      \"nombre\": \"Pedro Ramírez\",\n",
    "      \"direccion\": \"Barrio Escalante 789\",\n",
    "      \"ciudad\": \"Heredia\",\n",
    "      \"telefono\": \"+506 5555-6666\"\n",
    "    },\n",
    "    {\n",
    "      \"nombre\": \"Ana Castro\",\n",
    "      \"direccion\": \"Avenida 10 Calle 5\",\n",
    "      \"ciudad\": \"Cartago\",\n",
    "      \"telefono\": \"+506 3333-4444\"\n",
    "    },\n",
    "    {\n",
    "      \"nombre\": \"Carlos Jiménez\",\n",
    "      \"direccion\": \"Calle Principal 12\",\n",
    "      \"ciudad\": \"Liberia\",\n",
    "      \"telefono\": \"+506 6666-7777\"\n",
    "    },\n",
    "    {\n",
    "      \"nombre\": \"Diana Solano\",\n",
    "      \"direccion\": \"Barrio La Unión 78\",\n",
    "      \"ciudad\": \"Puntarenas\",\n",
    "      \"telefono\": \"+506 9999-8888\"\n",
    "    }\n",
    "  ]\n",
    "}"
   ]
  },
  {
   "cell_type": "markdown",
   "metadata": {},
   "source": [
    "##"
   ]
  },
  {
   "cell_type": "markdown",
   "metadata": {},
   "source": [
    "## Extraer información usando regex:\n",
    "### Utilice expresiones regulares para extraer la siguiente información de cada cliente:\n",
    "- Nombre completo: Juan Pérez, María Gómez, Pedro Ramírez\n",
    "- Dirección completa: Calle Mayor 123, Avenida Central 456, Barrio Escalante 789\n",
    "- Ciudad: San José, Alajuela, Heredia\n",
    "- Número de teléfono: +506 2222-3333, +506 8888-4444, +506 5555-6666\n",
    "\n",
    "### Imprima la información extraída para cada cliente en un formato claro y organizado.\n",
    "\n",
    "\n",
    "## Pistas:\n",
    "\n",
    "- Utilice la librería re de Python para trabajar con expresiones regulares.\n",
    "- Defina patrones de expresión regular específicos para cada tipo de información que desea extraer.\n",
    "- Recorra el archivo JSON y aplique los patrones regex a cada cliente.\n",
    "- Utilize métodos como findall() o search() para encontrar las coincidencias en el texto."
   ]
  },
  {
   "cell_type": "code",
   "execution_count": 6,
   "metadata": {
    "tags": [
     "parameters"
    ]
   },
   "outputs": [
    {
     "ename": "AttributeError",
     "evalue": "'str' object has no attribute 'get'",
     "output_type": "error",
     "traceback": [
      "\u001b[1;31m---------------------------------------------------------------------------\u001b[0m",
      "\u001b[1;31mAttributeError\u001b[0m                            Traceback (most recent call last)",
      "Cell \u001b[1;32mIn[6], line 23\u001b[0m\n\u001b[0;32m     21\u001b[0m \u001b[38;5;66;03m# Definir patrones de regex\u001b[39;00m\n\u001b[0;32m     22\u001b[0m \u001b[38;5;28;01mfor\u001b[39;00m cliente \u001b[38;5;129;01min\u001b[39;00m datos_clientes:\n\u001b[1;32m---> 23\u001b[0m     texto \u001b[38;5;241m=\u001b[39m \u001b[43mcliente\u001b[49m\u001b[38;5;241;43m.\u001b[39;49m\u001b[43mget\u001b[49m(\u001b[38;5;124m\"\u001b[39m\u001b[38;5;124mcliente\u001b[39m\u001b[38;5;124m\"\u001b[39m, \u001b[38;5;124m\"\u001b[39m\u001b[38;5;124m\"\u001b[39m)\n\u001b[0;32m     25\u001b[0m nombre \u001b[38;5;241m=\u001b[39m re\u001b[38;5;241m.\u001b[39msearch(patron_nombre, texto)\u001b[38;5;241m.\u001b[39mgroup()\n\u001b[0;32m     26\u001b[0m direccion \u001b[38;5;241m=\u001b[39m re\u001b[38;5;241m.\u001b[39msearch(patron_direccion, texto)\u001b[38;5;241m.\u001b[39mgroup()\n",
      "\u001b[1;31mAttributeError\u001b[0m: 'str' object has no attribute 'get'"
     ]
    }
   ],
   "source": [
    "import json\n",
    "import re\n",
    "\n",
    "# Cargar el archivo JSON\n",
    "try:\n",
    "    with open(\"clientes.json\", \"r\", encoding=\"utf-8\") as archivo:\n",
    "        datos_clientes = json.load(archivo)\n",
    "except FileNotFoundError as e:\n",
    "    print(f\"Error: El archivo JSON 'clientes.json' no se encontró.\")\n",
    "except json.JSONDecodeError as e:\n",
    "    print(f\"Error al decodificar el archivo JSON: {e}\")\n",
    "except Exception as e:\n",
    "    print(f\"Error inesperado: {e}\")\n",
    "    datos_clientes = []\n",
    "    \n",
    "patron_nombre = r\"[A-Z][a-z]+ [A-Z][a-z]+\"  # Coincide con \"Nombre Apellido\"\n",
    "patron_direccion = r\"[A-Za-z]+ [A-Za-z]* \\d+\"  # Coincide con \"Calle Número\"\n",
    "patron_ciudad = r\"[A-Z][a-z]+\"  # Coincide con \"Ciudad\"\n",
    "patron_telefono = r\"\\+\\d{3} \\d{4}-\\d{4}\"  # Coincide con \"+506 XXXX-XXXX\"\n",
    "\n",
    "# Definir patrones de regex\n",
    "for cliente in datos_clientes:\n",
    "    texto = cliente.get(\"cliente\", \"\")\n",
    "    \n",
    "nombre = re.search(patron_nombre, texto).group()\n",
    "direccion = re.search(patron_direccion, texto).group()\n",
    "ciudad = re.search(patron_ciudad, texto).group()\n",
    "telefono = re.search(patron_telefono, texto).group()\n",
    "\n",
    "nombre = nombre_match.group() if nombre_match else \"No encontrado\"\n",
    "direccion = direccion_match.group() if direccion_match else \"No encontrado\"\n",
    "ciudad = ciudad_match.group() if ciudad_match else \"No encontrado\"\n",
    "telefono = telefono_match.group() if telefono_match else \"No encontrado\""
   ]
  },
  {
   "cell_type": "markdown",
   "metadata": {},
   "source": [
    "## Solucion con ayuda ##"
   ]
  },
  {
   "cell_type": "code",
   "execution_count": 9,
   "metadata": {},
   "outputs": [
    {
     "name": "stdout",
     "output_type": "stream",
     "text": [
      "\n",
      "Cliente:\n",
      "Nombre: No encontrado\n",
      "Dirección: No encontrada\n",
      "Ciudad: No encontrada\n",
      "Teléfono: No encontrado\n"
     ]
    }
   ],
   "source": [
    "import json\n",
    "import re\n",
    "\n",
    "# Cargar el archivo JSON\n",
    "try:\n",
    "    with open(\"clientes.json\", \"r\", encoding=\"utf-8\") as archivo:\n",
    "        datos_clientes = json.load(archivo)\n",
    "except FileNotFoundError:\n",
    "    print(\"Error: El archivo JSON 'clientes.json' no se encontró.\")\n",
    "    datos_clientes = []\n",
    "except json.JSONDecodeError as e:\n",
    "    print(f\"Error al decodificar el archivo JSON: {e}\")\n",
    "    datos_clientes = []\n",
    "except Exception as e:\n",
    "    print(f\"Error inesperado: {e}\")\n",
    "    datos_clientes = []\n",
    "\n",
    "# Definir patrones de regex\n",
    "patron_nombre = r\"[A-Z][a-z]+\\s[A-Z][a-z]+\"\n",
    "patron_direccion = r\"[A-Za-z]+\\s[A-Za-z]*\\s\\d+\"\n",
    "patron_ciudad = r\"(San José|Alajuela|Heredia)\"\n",
    "patron_telefono = r\"\\+\\d{3}\\s\\d{4}-\\d{4}\"\n",
    "\n",
    "# Procesar clientes\n",
    "for cliente in datos_clientes:\n",
    "    texto = cliente if isinstance(cliente, str) else cliente.get(\"cliente\", \"\")\n",
    "    \n",
    "    nombre_match = re.search(patron_nombre, texto)\n",
    "    direccion_match = re.search(patron_direccion, texto)\n",
    "    ciudad_match = re.search(patron_ciudad, texto)\n",
    "    telefono_match = re.search(patron_telefono, texto)\n",
    "    \n",
    "    nombre = nombre_match.group() if nombre_match else \"No encontrado\"\n",
    "    direccion = direccion_match.group() if direccion_match else \"No encontrada\"\n",
    "    ciudad = ciudad_match.group() if ciudad_match else \"No encontrada\"\n",
    "    telefono = telefono_match.group() if telefono_match else \"No encontrado\"\n",
    "    \n",
    "    print(\"\\nCliente:\")\n",
    "    print(f\"Nombre: {nombre}\")\n",
    "    print(f\"Dirección: {direccion}\")\n",
    "    print(f\"Ciudad: {ciudad}\")\n",
    "    print(f\"Teléfono: {telefono}\")"
   ]
  }
 ],
 "metadata": {
  "kernelspec": {
   "display_name": "Python 3",
   "language": "python",
   "name": "python3"
  },
  "language_info": {
   "codemirror_mode": {
    "name": "ipython",
    "version": 3
   },
   "file_extension": ".py",
   "mimetype": "text/x-python",
   "name": "python",
   "nbconvert_exporter": "python",
   "pygments_lexer": "ipython3",
   "version": "3.13.1"
  }
 },
 "nbformat": 4,
 "nbformat_minor": 2
}
